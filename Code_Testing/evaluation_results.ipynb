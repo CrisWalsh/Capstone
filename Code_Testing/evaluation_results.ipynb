{
 "cells": [
  {
   "cell_type": "code",
   "execution_count": 11,
   "metadata": {},
   "outputs": [],
   "source": [
    "import pandas as pd\n",
    "import numpy as np\n",
    "import matplotlib.pyplot as plt\n",
    "import seaborn as sns\n",
    "from sklearn.metrics import confusion_matrix, precision_score, recall_score, f1_score, accuracy_score, roc_auc_score,  roc_curve, matthews_corrcoef"
   ]
  },
  {
   "cell_type": "code",
   "execution_count": 60,
   "metadata": {},
   "outputs": [],
   "source": [
    "class Evaluate:\n",
    "    def __init__(self, true_values, predicted_values, predicted_probabilities=None):\n",
    "        \"\"\"\n",
    "        Initialize the evaluation object with true values, predicted values, and optionally predicted probabilities.\n",
    "\n",
    "        Args:\n",
    "            true_values (list or array-like): True labels.\n",
    "            predicted_values (list or array-like): Predicted labels.\n",
    "            predicted_probabilities (list or array-like, optional): Predicted probabilities for positive class.\n",
    "\n",
    "        Raises:\n",
    "            ValueError: If the predicted or actual lists are empty, or if their lengths do not match.\n",
    "        \"\"\"\n",
    "        if len(true_values) == 0 or len(predicted_values) == 0:\n",
    "            raise ValueError(\"Predicted and actual lists cannot be empty.\")\n",
    "        if len(true_values) != len(predicted_values):\n",
    "            raise ValueError(\"Predicted and actual lists must be of the same length.\")\n",
    "        if predicted_probabilities is not None and len(predicted_probabilities) != len(true_values):\n",
    "            raise ValueError(\"Predicted probabilities must be of the same length as true values.\")\n",
    "\n",
    "        self.true_values = np.array(true_values)\n",
    "        self.predicted_values = np.array(predicted_values)\n",
    "        self.predicted_probabilities = np.array(predicted_probabilities) if predicted_probabilities is not None else None\n",
    "\n",
    "    def accuracy(self):\n",
    "        \"\"\"Calculate the accuracy of the predictions.\"\"\"\n",
    "        return accuracy_score(self.true_values, self.predicted_values)\n",
    "\n",
    "    def confusion_matrix(self):\n",
    "        \"\"\"\n",
    "        Calculate confusion matrix rates.\n",
    "\n",
    "        Returns:\n",
    "            dict: Rates of True Negative (TN), False Positive (FP), False Negative (FN), and True Positive (TP).\n",
    "        \"\"\"\n",
    "        tn, fp, fn, tp = confusion_matrix(self.true_values, self.predicted_values, labels=[0, 1]).ravel()\n",
    "\n",
    "        # Calculate the total number of instances\n",
    "        total = tn + fp + fn + tp\n",
    "\n",
    "        # Return the rates instead of counts\n",
    "        return {\n",
    "            'TN Rate': tn / total,\n",
    "            'FP Rate': fp / total,\n",
    "            'FN Rate': fn / total,\n",
    "            'TP Rate': tp / total\n",
    "        }\n",
    "\n",
    "    def precision(self):\n",
    "        \"\"\"Calculate the precision of the predictions.\"\"\"\n",
    "        return precision_score(self.true_values, self.predicted_values)\n",
    "\n",
    "    def recall(self):\n",
    "        \"\"\"Calculate the recall of the predictions.\"\"\"\n",
    "        return recall_score(self.true_values, self.predicted_values)\n",
    "\n",
    "    def f1(self):\n",
    "        \"\"\"Calculate the F1 score of the predictions.\"\"\"\n",
    "        return f1_score(self.true_values, self.predicted_values)\n",
    "\n",
    "    def auc(self):\n",
    "        \"\"\"\n",
    "        Calculate the Area Under the Receiver Operating Characteristic Curve (ROC AUC).\n",
    "\n",
    "        Returns:\n",
    "            float: AUC score.\n",
    "\n",
    "        Raises:\n",
    "            ValueError: If predicted probabilities are not provided.\n",
    "        \"\"\"\n",
    "        if self.predicted_probabilities is None:\n",
    "            raise ValueError(\"Predicted probabilities are required to calculate AUC.\")\n",
    "        return roc_auc_score(self.true_values, self.predicted_probabilities)\n",
    "    \n",
    "    def mcc(self):\n",
    "        \"\"\"Calculate the Matthews correlation coefficient (MCC).\"\"\"\n",
    "        return matthews_corrcoef(self.true_values, self.predicted_values)\n",
    "\n",
    "    def get_all_metrics(self):\n",
    "        \"\"\"\n",
    "        Get all evaluation metrics.\n",
    "\n",
    "        Returns:\n",
    "            dict: Dictionary containing all evaluation metrics.\n",
    "        \"\"\"\n",
    "        confusion_matrix_rates = self.confusion_matrix()\n",
    "        metrics = {\n",
    "            'Accuracy': self.accuracy(),\n",
    "            'TN Rate': confusion_matrix_rates['TN Rate'],\n",
    "            'FP Rate': confusion_matrix_rates['FP Rate'],\n",
    "            'FN Rate': confusion_matrix_rates['FN Rate'],\n",
    "            'TP Rate': confusion_matrix_rates['TP Rate'],\n",
    "            'Precision': self.precision(),\n",
    "            'Recall': self.recall(),\n",
    "            'F1 Score': self.f1(),\n",
    "            'MCC': self.mcc()\n",
    "        }\n",
    "        try:\n",
    "            metrics['AUC'] = self.auc()\n",
    "        except ValueError as e:\n",
    "            metrics['AUC'] = str(e)\n",
    "\n",
    "        return metrics\n",
    "    \n",
    "    # def plot_confusion_matrix(self):\n",
    "    #     cm = confusion_matrix(self.true_values, self.predicted_values, labels=[0, 1])\n",
    "    #     sns.heatmap(cm, annot=True, fmt='d', cmap='Blues', xticklabels=['Predicted 0', 'Predicted 1'], yticklabels=['Actual 0', 'Actual 1'])\n",
    "    #     plt.title('Confusion Matrix')\n",
    "    #     plt.ylabel('True label')\n",
    "    #     plt.xlabel('Predicted label')\n",
    "    #     plt.show()\n",
    "\n",
    "    def plot_confusion_matrix(self):\n",
    "        \"\"\"\n",
    "        Plot the confusion matrix as a heatmap with percentages.\n",
    "\n",
    "        Returns:\n",
    "            None\n",
    "        \"\"\"\n",
    "        plt.figure(figsize=(15,10))\n",
    "        cm = confusion_matrix(self.true_values, self.predicted_values, labels=[0, 1])\n",
    "        cm_percentage = cm / np.sum(cm) * 100  # Convert counts to percentages\n",
    "        sns.heatmap(cm_percentage, annot=True, fmt=\".2f\", cmap='Blues', xticklabels=['Predicted 0', 'Predicted 1'], yticklabels=['Actual 0', 'Actual 1'])\n",
    "        plt.title('Confusion Matrix (%)')\n",
    "        plt.ylabel('True label')\n",
    "        plt.xlabel('Predicted label')\n",
    "\n",
    "        # Adding percentage signs manually after plotting\n",
    "        ax = plt.gca()\n",
    "        for t in ax.texts:\n",
    "            if \"%\" not in t.get_text():\n",
    "                t.set_text(t.get_text() + \" %\")\n",
    "        plt.show()\n",
    "\n",
    "    def plot_roc_curve(self):\n",
    "        \"\"\"\n",
    "        Plot the Receiver Operating Characteristic (ROC) curve.\n",
    "\n",
    "        Returns:\n",
    "            None\n",
    "\n",
    "        Raises:\n",
    "            ValueError: If predicted probabilities are not provided.\n",
    "        \"\"\"\n",
    "        if self.predicted_probabilities is None:\n",
    "            raise ValueError(\"Predicted probabilities are required to plot ROC curve.\")\n",
    "        fpr, tpr, _ = roc_curve(self.true_values, self.predicted_probabilities)\n",
    "        plt.figure(figsize=(15,10))\n",
    "        plt.plot(fpr, tpr, color='darkorange', lw=2, label='ROC curve (area = %0.2f)' % self.auc())\n",
    "        plt.plot([0, 1], [0, 1], color='navy', lw=2, linestyle='--')\n",
    "        plt.xlim([0.0, 1.0])\n",
    "        plt.ylim([0.0, 1.05])\n",
    "        plt.xlabel('False Positive Rate')\n",
    "        plt.ylabel('True Positive Rate')\n",
    "        plt.title('Receiver Operating Characteristic (ROC) Curve')\n",
    "        plt.legend(loc=\"lower right\")\n",
    "        plt.show()\n"
   ]
  },
  {
   "cell_type": "code",
   "execution_count": 61,
   "metadata": {},
   "outputs": [],
   "source": [
    "# Create a random prediction to find if the class works\n",
    "np.random.seed(42)  # For reproducibility\n",
    "true_values = np.random.randint(0, 2, size=99)\n",
    "predicted_values = np.random.randint(0, 2, size=99)\n",
    "predicted_probabilities = np.random.rand(99)\n",
    "\n",
    "# Create an instance of the Evaluate class\n",
    "evaluate = Evaluate(true_values, predicted_values, predicted_probabilities)"
   ]
  },
  {
   "cell_type": "code",
   "execution_count": 62,
   "metadata": {},
   "outputs": [
    {
     "data": {
      "text/plain": [
       "{'Accuracy': 0.45454545454545453,\n",
       " 'Confusion Matrix Rates': {'TN Rate': 0.2222222222222222,\n",
       "  'FP Rate': 0.21212121212121213,\n",
       "  'FN Rate': 0.3333333333333333,\n",
       "  'TP Rate': 0.23232323232323232},\n",
       " 'Precision': 0.5227272727272727,\n",
       " 'Recall': 0.4107142857142857,\n",
       " 'F1 Score': 0.46,\n",
       " 'MCC': -0.07746502801125198,\n",
       " 'AUC': 0.47342192691029905}"
      ]
     },
     "execution_count": 62,
     "metadata": {},
     "output_type": "execute_result"
    }
   ],
   "source": [
    "# Create an evaluation\n",
    "evaluate.get_all_metrics()"
   ]
  },
  {
   "cell_type": "code",
   "execution_count": 63,
   "metadata": {},
   "outputs": [
    {
     "data": {
      "image/png": "[encoded data removed]",
      "text/plain": [
       "<Figure size 432x288 with 2 Axes>"
      ]
     },
     "metadata": {
      "needs_background": "light"
     },
     "output_type": "display_data"
    }
   ],
   "source": [
    "# Plotting the confusion matrix and ROC curve\n",
    "evaluate.plot_confusion_matrix()"
   ]
  },
  {
   "cell_type": "code",
   "execution_count": 64,
   "metadata": {},
   "outputs": [
    {
     "data": {
      "image/png": "[encoded data removed]",
      "text/plain": [
       "<Figure size 432x288 with 1 Axes>"
      ]
     },
     "metadata": {
      "needs_background": "light"
     },
     "output_type": "display_data"
    }
   ],
   "source": [
    "# plot the Roc curve\n",
    "evaluate.plot_roc_curve()"
   ]
  }
 ],
 "metadata": {
  "kernelspec": {
   "display_name": "base",
   "language": "python",
   "name": "python3"
  },
  "language_info": {
   "codemirror_mode": {
    "name": "ipython",
    "version": 3
   },
   "file_extension": ".py",
   "mimetype": "text/x-python",
   "name": "python",
   "nbconvert_exporter": "python",
   "pygments_lexer": "ipython3",
   "version": "3.9.12"
  }
 },
 "nbformat": 4,
 "nbformat_minor": 2
}
