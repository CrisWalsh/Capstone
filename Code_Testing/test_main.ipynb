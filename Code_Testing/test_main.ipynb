{
 "cells": [
  {
   "cell_type": "code",
   "execution_count": 3,
   "metadata": {},
   "outputs": [],
   "source": [
    "import sys\n",
    "import os\n",
    "\n",
    "# Append the directory of clean_cresci_2015.py to sys.path\n",
    "sys.path.append(os.path.abspath(\"../Code\"))\n",
    "\n",
    "# Now you can import clean_cresci_2015\n",
    "from clean_cresci_2015 import clean_cresci_2015\n",
    "from import_data import ImportData\n",
    "from evaluation import Evaluate "
   ]
  },
  {
   "cell_type": "markdown",
   "metadata": {},
   "source": [
    "## 1.- Clean Data"
   ]
  },
  {
   "cell_type": "code",
   "execution_count": 4,
   "metadata": {},
   "outputs": [
    {
     "name": "stdout",
     "output_type": "stream",
     "text": [
      "Processing datasets in E13.csv...\n",
      "Tweets: 2068037 rows, Users: 1481 rows\n",
      "******FILES SAVED********\n",
      "\n",
      "\n",
      "Processing datasets in FSF.csv...\n",
      "Tweets: 22910 rows, Users: 1169 rows\n",
      "******FILES SAVED********\n",
      "\n",
      "\n",
      "Processing datasets in INT.csv...\n"
     ]
    },
    {
     "name": "stderr",
     "output_type": "stream",
     "text": [
      "c:\\Users\\jmanu\\OneDrive - University of South Australia\\Capstone\\GIT\\Code\\clean_cresci_2015.py:22: DtypeWarning: Columns (8) have mixed types. Specify dtype option on import or set low_memory=False.\n",
      "  tweets = pd.read_csv(tweets_path, encoding='utf-8')\n"
     ]
    },
    {
     "name": "stdout",
     "output_type": "stream",
     "text": [
      "Tweets: 58925 rows, Users: 1337 rows\n",
      "******FILES SAVED********\n",
      "\n",
      "\n",
      "Processing datasets in TFP.csv...\n",
      "Tweets: 563693 rows, Users: 469 rows\n",
      "******FILES SAVED********\n",
      "\n",
      "\n",
      "Processing datasets in TWT.csv...\n",
      "Tweets: 114192 rows, Users: 845 rows\n",
      "******FILES SAVED********\n",
      "\n",
      "\n"
     ]
    }
   ],
   "source": [
    "cleaner = clean_cresci_2015()\n",
    "cleaner.clean_data()"
   ]
  },
  {
   "cell_type": "markdown",
   "metadata": {},
   "source": [
    "## 2.- Import Data"
   ]
  },
  {
   "cell_type": "code",
   "execution_count": 5,
   "metadata": {},
   "outputs": [
    {
     "data": {
      "text/plain": [
       "1    0.600172\n",
       "0    0.399828\n",
       "Name: bot, dtype: float64"
      ]
     },
     "execution_count": 5,
     "metadata": {},
     "output_type": "execute_result"
    }
   ],
   "source": [
    "importer = ImportData()\n",
    "data = importer.read_and_sample_data(bot_ratio=[.4, .6])\n",
    "data['bot'].value_counts(normalize=True)"
   ]
  },
  {
   "cell_type": "markdown",
   "metadata": {},
   "source": [
    "# 2.2 Split Data "
   ]
  },
  {
   "cell_type": "code",
   "execution_count": 6,
   "metadata": {},
   "outputs": [
    {
     "data": {
      "text/html": [
       "<div>\n",
       "<style scoped>\n",
       "    .dataframe tbody tr th:only-of-type {\n",
       "        vertical-align: middle;\n",
       "    }\n",
       "\n",
       "    .dataframe tbody tr th {\n",
       "        vertical-align: top;\n",
       "    }\n",
       "\n",
       "    .dataframe thead th {\n",
       "        text-align: right;\n",
       "    }\n",
       "</style>\n",
       "<table border=\"1\" class=\"dataframe\">\n",
       "  <thead>\n",
       "    <tr style=\"text-align: right;\">\n",
       "      <th></th>\n",
       "      <th>user_id</th>\n",
       "      <th>retweet_count</th>\n",
       "      <th>reply_count</th>\n",
       "      <th>favorite_count</th>\n",
       "      <th>num_hashtags</th>\n",
       "      <th>num_urls</th>\n",
       "      <th>num_mentions</th>\n",
       "      <th>num_tweets</th>\n",
       "      <th>retweet_ratio</th>\n",
       "      <th>reply_ration</th>\n",
       "      <th>statuses_count</th>\n",
       "      <th>followers_count</th>\n",
       "      <th>friends_count</th>\n",
       "      <th>favourites_count</th>\n",
       "      <th>listed_count</th>\n",
       "      <th>account_age_years</th>\n",
       "      <th>followers_to_friends_ratio</th>\n",
       "    </tr>\n",
       "  </thead>\n",
       "  <tbody>\n",
       "    <tr>\n",
       "      <th>331</th>\n",
       "      <td>443896569</td>\n",
       "      <td>0.066702</td>\n",
       "      <td>0.027823</td>\n",
       "      <td>0.012242</td>\n",
       "      <td>0.131306</td>\n",
       "      <td>0.200987</td>\n",
       "      <td>0.231104</td>\n",
       "      <td>0.431762</td>\n",
       "      <td>0.003720</td>\n",
       "      <td>0.050480</td>\n",
       "      <td>0.024946</td>\n",
       "      <td>0.016313</td>\n",
       "      <td>0.008147</td>\n",
       "      <td>0.000581</td>\n",
       "      <td>0.009211</td>\n",
       "      <td>0.285714</td>\n",
       "      <td>0.007361</td>\n",
       "    </tr>\n",
       "    <tr>\n",
       "      <th>237</th>\n",
       "      <td>819790166</td>\n",
       "      <td>0.002974</td>\n",
       "      <td>0.001294</td>\n",
       "      <td>0.000306</td>\n",
       "      <td>0.012408</td>\n",
       "      <td>0.010402</td>\n",
       "      <td>0.010759</td>\n",
       "      <td>0.018610</td>\n",
       "      <td>0.003817</td>\n",
       "      <td>0.054041</td>\n",
       "      <td>0.001398</td>\n",
       "      <td>0.000839</td>\n",
       "      <td>0.003402</td>\n",
       "      <td>0.000323</td>\n",
       "      <td>0.001316</td>\n",
       "      <td>0.142857</td>\n",
       "      <td>0.000900</td>\n",
       "    </tr>\n",
       "    <tr>\n",
       "      <th>409</th>\n",
       "      <td>363161920</td>\n",
       "      <td>0.257872</td>\n",
       "      <td>0.122938</td>\n",
       "      <td>0.013160</td>\n",
       "      <td>0.294655</td>\n",
       "      <td>0.496474</td>\n",
       "      <td>0.560288</td>\n",
       "      <td>0.995502</td>\n",
       "      <td>0.006238</td>\n",
       "      <td>0.096761</td>\n",
       "      <td>0.247081</td>\n",
       "      <td>0.015208</td>\n",
       "      <td>0.019108</td>\n",
       "      <td>0.000000</td>\n",
       "      <td>0.011842</td>\n",
       "      <td>0.285714</td>\n",
       "      <td>0.002935</td>\n",
       "    </tr>\n",
       "    <tr>\n",
       "      <th>762</th>\n",
       "      <td>1124512352</td>\n",
       "      <td>0.227079</td>\n",
       "      <td>0.000000</td>\n",
       "      <td>0.002865</td>\n",
       "      <td>0.241379</td>\n",
       "      <td>0.166667</td>\n",
       "      <td>0.153846</td>\n",
       "      <td>0.423077</td>\n",
       "      <td>0.261141</td>\n",
       "      <td>0.000000</td>\n",
       "      <td>0.571429</td>\n",
       "      <td>0.481481</td>\n",
       "      <td>0.775510</td>\n",
       "      <td>0.000000</td>\n",
       "      <td>0.000000</td>\n",
       "      <td>0.000000</td>\n",
       "      <td>0.464587</td>\n",
       "    </tr>\n",
       "    <tr>\n",
       "      <th>685</th>\n",
       "      <td>1176037879</td>\n",
       "      <td>0.000000</td>\n",
       "      <td>0.000000</td>\n",
       "      <td>0.000000</td>\n",
       "      <td>0.000000</td>\n",
       "      <td>0.000000</td>\n",
       "      <td>0.000000</td>\n",
       "      <td>0.230769</td>\n",
       "      <td>0.000000</td>\n",
       "      <td>0.000000</td>\n",
       "      <td>0.428571</td>\n",
       "      <td>0.555556</td>\n",
       "      <td>0.704082</td>\n",
       "      <td>0.000000</td>\n",
       "      <td>0.000000</td>\n",
       "      <td>0.000000</td>\n",
       "      <td>0.590446</td>\n",
       "    </tr>\n",
       "    <tr>\n",
       "      <th>...</th>\n",
       "      <td>...</td>\n",
       "      <td>...</td>\n",
       "      <td>...</td>\n",
       "      <td>...</td>\n",
       "      <td>...</td>\n",
       "      <td>...</td>\n",
       "      <td>...</td>\n",
       "      <td>...</td>\n",
       "      <td>...</td>\n",
       "      <td>...</td>\n",
       "      <td>...</td>\n",
       "      <td>...</td>\n",
       "      <td>...</td>\n",
       "      <td>...</td>\n",
       "      <td>...</td>\n",
       "      <td>...</td>\n",
       "      <td>...</td>\n",
       "    </tr>\n",
       "    <tr>\n",
       "      <th>756</th>\n",
       "      <td>1218429127</td>\n",
       "      <td>0.000000</td>\n",
       "      <td>0.000000</td>\n",
       "      <td>0.000000</td>\n",
       "      <td>0.000000</td>\n",
       "      <td>0.000000</td>\n",
       "      <td>0.000000</td>\n",
       "      <td>0.000735</td>\n",
       "      <td>0.000000</td>\n",
       "      <td>0.000000</td>\n",
       "      <td>0.001269</td>\n",
       "      <td>0.013699</td>\n",
       "      <td>0.018018</td>\n",
       "      <td>0.000000</td>\n",
       "      <td>0.000000</td>\n",
       "      <td>0.000000</td>\n",
       "      <td>0.173611</td>\n",
       "    </tr>\n",
       "    <tr>\n",
       "      <th>587</th>\n",
       "      <td>617710286</td>\n",
       "      <td>0.000000</td>\n",
       "      <td>0.003604</td>\n",
       "      <td>0.000001</td>\n",
       "      <td>0.005690</td>\n",
       "      <td>0.000000</td>\n",
       "      <td>0.000000</td>\n",
       "      <td>0.024982</td>\n",
       "      <td>0.000000</td>\n",
       "      <td>0.015752</td>\n",
       "      <td>0.022208</td>\n",
       "      <td>0.232877</td>\n",
       "      <td>0.156657</td>\n",
       "      <td>0.000000</td>\n",
       "      <td>0.000000</td>\n",
       "      <td>0.250000</td>\n",
       "      <td>0.339457</td>\n",
       "    </tr>\n",
       "    <tr>\n",
       "      <th>1032</th>\n",
       "      <td>621733211</td>\n",
       "      <td>0.000000</td>\n",
       "      <td>0.005405</td>\n",
       "      <td>0.000000</td>\n",
       "      <td>0.000000</td>\n",
       "      <td>0.000000</td>\n",
       "      <td>0.000000</td>\n",
       "      <td>0.008817</td>\n",
       "      <td>0.000000</td>\n",
       "      <td>0.063614</td>\n",
       "      <td>0.008249</td>\n",
       "      <td>0.287671</td>\n",
       "      <td>0.136637</td>\n",
       "      <td>0.000000</td>\n",
       "      <td>0.000000</td>\n",
       "      <td>0.250000</td>\n",
       "      <td>0.480769</td>\n",
       "    </tr>\n",
       "    <tr>\n",
       "      <th>768</th>\n",
       "      <td>1127827542</td>\n",
       "      <td>0.000000</td>\n",
       "      <td>0.000000</td>\n",
       "      <td>0.000000</td>\n",
       "      <td>0.172414</td>\n",
       "      <td>0.000000</td>\n",
       "      <td>0.000000</td>\n",
       "      <td>0.500000</td>\n",
       "      <td>0.000000</td>\n",
       "      <td>0.000000</td>\n",
       "      <td>0.628571</td>\n",
       "      <td>0.518519</td>\n",
       "      <td>0.938776</td>\n",
       "      <td>0.000000</td>\n",
       "      <td>0.000000</td>\n",
       "      <td>0.000000</td>\n",
       "      <td>0.413312</td>\n",
       "    </tr>\n",
       "    <tr>\n",
       "      <th>1102</th>\n",
       "      <td>1391378610</td>\n",
       "      <td>0.000000</td>\n",
       "      <td>0.000000</td>\n",
       "      <td>0.000001</td>\n",
       "      <td>0.000000</td>\n",
       "      <td>0.000000</td>\n",
       "      <td>0.000000</td>\n",
       "      <td>0.000735</td>\n",
       "      <td>0.000000</td>\n",
       "      <td>0.000000</td>\n",
       "      <td>0.001269</td>\n",
       "      <td>0.013699</td>\n",
       "      <td>0.009510</td>\n",
       "      <td>0.000000</td>\n",
       "      <td>0.000000</td>\n",
       "      <td>0.000000</td>\n",
       "      <td>0.328947</td>\n",
       "    </tr>\n",
       "  </tbody>\n",
       "</table>\n",
       "<p>814 rows × 17 columns</p>\n",
       "</div>"
      ],
      "text/plain": [
       "         user_id  retweet_count  reply_count  favorite_count  num_hashtags  \\\n",
       "331    443896569       0.066702     0.027823        0.012242      0.131306   \n",
       "237    819790166       0.002974     0.001294        0.000306      0.012408   \n",
       "409    363161920       0.257872     0.122938        0.013160      0.294655   \n",
       "762   1124512352       0.227079     0.000000        0.002865      0.241379   \n",
       "685   1176037879       0.000000     0.000000        0.000000      0.000000   \n",
       "...          ...            ...          ...             ...           ...   \n",
       "756   1218429127       0.000000     0.000000        0.000000      0.000000   \n",
       "587    617710286       0.000000     0.003604        0.000001      0.005690   \n",
       "1032   621733211       0.000000     0.005405        0.000000      0.000000   \n",
       "768   1127827542       0.000000     0.000000        0.000000      0.172414   \n",
       "1102  1391378610       0.000000     0.000000        0.000001      0.000000   \n",
       "\n",
       "      num_urls  num_mentions  num_tweets  retweet_ratio  reply_ration  \\\n",
       "331   0.200987      0.231104    0.431762       0.003720      0.050480   \n",
       "237   0.010402      0.010759    0.018610       0.003817      0.054041   \n",
       "409   0.496474      0.560288    0.995502       0.006238      0.096761   \n",
       "762   0.166667      0.153846    0.423077       0.261141      0.000000   \n",
       "685   0.000000      0.000000    0.230769       0.000000      0.000000   \n",
       "...        ...           ...         ...            ...           ...   \n",
       "756   0.000000      0.000000    0.000735       0.000000      0.000000   \n",
       "587   0.000000      0.000000    0.024982       0.000000      0.015752   \n",
       "1032  0.000000      0.000000    0.008817       0.000000      0.063614   \n",
       "768   0.000000      0.000000    0.500000       0.000000      0.000000   \n",
       "1102  0.000000      0.000000    0.000735       0.000000      0.000000   \n",
       "\n",
       "      statuses_count  followers_count  friends_count  favourites_count  \\\n",
       "331         0.024946         0.016313       0.008147          0.000581   \n",
       "237         0.001398         0.000839       0.003402          0.000323   \n",
       "409         0.247081         0.015208       0.019108          0.000000   \n",
       "762         0.571429         0.481481       0.775510          0.000000   \n",
       "685         0.428571         0.555556       0.704082          0.000000   \n",
       "...              ...              ...            ...               ...   \n",
       "756         0.001269         0.013699       0.018018          0.000000   \n",
       "587         0.022208         0.232877       0.156657          0.000000   \n",
       "1032        0.008249         0.287671       0.136637          0.000000   \n",
       "768         0.628571         0.518519       0.938776          0.000000   \n",
       "1102        0.001269         0.013699       0.009510          0.000000   \n",
       "\n",
       "      listed_count  account_age_years  followers_to_friends_ratio  \n",
       "331       0.009211           0.285714                    0.007361  \n",
       "237       0.001316           0.142857                    0.000900  \n",
       "409       0.011842           0.285714                    0.002935  \n",
       "762       0.000000           0.000000                    0.464587  \n",
       "685       0.000000           0.000000                    0.590446  \n",
       "...            ...                ...                         ...  \n",
       "756       0.000000           0.000000                    0.173611  \n",
       "587       0.000000           0.250000                    0.339457  \n",
       "1032      0.000000           0.250000                    0.480769  \n",
       "768       0.000000           0.000000                    0.413312  \n",
       "1102      0.000000           0.000000                    0.328947  \n",
       "\n",
       "[814 rows x 17 columns]"
      ]
     },
     "execution_count": 6,
     "metadata": {},
     "output_type": "execute_result"
    }
   ],
   "source": [
    "splits = importer.split_dataset(data)\n",
    "splits['X_train']"
   ]
  },
  {
   "cell_type": "markdown",
   "metadata": {},
   "source": [
    "# 4.- Sample Model "
   ]
  },
  {
   "cell_type": "code",
   "execution_count": 8,
   "metadata": {},
   "outputs": [],
   "source": [
    "X_train = splits['X_train']\n",
    "y_train = splits['y_train']\n",
    "X_test = splits[\"X_test\"]\n",
    "y_test = splits[\"y_test\"]"
   ]
  },
  {
   "cell_type": "code",
   "execution_count": 15,
   "metadata": {},
   "outputs": [
    {
     "name": "stderr",
     "output_type": "stream",
     "text": [
      "c:\\Users\\jmanu\\anaconda3\\lib\\site-packages\\sklearn\\neighbors\\_classification.py:228: FutureWarning: Unlike other reduction functions (e.g. `skew`, `kurtosis`), the default behavior of `mode` typically preserves the axis it acts along. In SciPy 1.11.0, this behavior will change: the default value of `keepdims` will become False, the `axis` over which the statistic is taken will be eliminated, and the value None will no longer be accepted. Set `keepdims` to True or False to avoid this warning.\n",
      "  mode, _ = stats.mode(_y[neigh_ind, k], axis=1)\n"
     ]
    }
   ],
   "source": [
    "from sklearn.neighbors import KNeighborsClassifier\n",
    "\n",
    "# Initialize the KNN model with K=5\n",
    "knn = KNeighborsClassifier(n_neighbors=5)\n",
    "\n",
    "# Train the KNN model\n",
    "knn.fit(X_train, y_train.values.ravel())  # Make sure y_train is in the correct shape\n",
    "\n",
    "# Make predictions\n",
    "predictions = knn.predict(X_test)\n",
    "\n",
    "# Get prediction probabilities for the positive class)\n",
    "positive_class_probabilities = knn.predict_proba(X_test)[:, 1]"
   ]
  },
  {
   "cell_type": "code",
   "execution_count": 17,
   "metadata": {},
   "outputs": [
    {
     "data": {
      "text/plain": [
       "array([0.2, 1. , 0.6, 1. , 1. , 0. , 0. , 1. , 0. , 1. , 0. , 1. , 0. ,\n",
       "       1. , 1. , 1. , 0.4, 0. , 1. , 1. , 1. , 1. , 0.6, 0.2, 0. , 0.6,\n",
       "       1. , 0. , 0. , 1. , 1. , 1. , 1. , 1. , 0. , 0.4, 0.4, 1. , 0.6,\n",
       "       0.4, 1. , 1. , 1. , 0.2, 1. , 1. , 1. , 1. , 1. , 1. , 0.4, 1. ,\n",
       "       1. , 1. , 0.2, 1. , 0. , 1. , 1. , 0. , 1. , 1. , 0.6, 0. , 1. ,\n",
       "       1. , 0. , 0.2, 1. , 1. , 0. , 0.2, 1. , 1. , 0.4, 0.8, 1. , 0. ,\n",
       "       0. , 1. , 0.2, 0.2, 1. , 1. , 0.2, 0.4, 0.4, 1. , 0.4, 0.4, 0.8,\n",
       "       0. , 0.2, 1. , 1. , 1. , 1. , 0.2, 1. , 1. , 1. , 0. , 0. , 1. ,\n",
       "       0.4, 0.2, 0. , 0.2, 1. , 1. , 0. , 1. , 1. , 0.4, 0. , 1. , 0.4,\n",
       "       1. , 1. , 1. , 0.4, 1. , 1. , 1. , 1. , 1. , 1. , 0. , 0. , 0. ,\n",
       "       1. , 1. , 1. , 1. , 0. , 0. , 0.6, 1. , 0.4, 1. , 1. , 1. , 1. ,\n",
       "       0.4, 0.2, 0. , 0.4, 0.4, 0. , 0. , 0.6, 0. , 1. , 0. , 0. , 0.6,\n",
       "       0.4, 0. , 0. , 1. , 1. , 0.6, 1. , 1. , 1. , 1. , 0.2, 0.8, 1. ,\n",
       "       0. , 0. , 0. , 0.2, 0.2])"
      ]
     },
     "execution_count": 17,
     "metadata": {},
     "output_type": "execute_result"
    }
   ],
   "source": [
    "positive_class_probabilities"
   ]
  },
  {
   "cell_type": "markdown",
   "metadata": {},
   "source": [
    "## 5.- Evaluation"
   ]
  },
  {
   "cell_type": "code",
   "execution_count": 18,
   "metadata": {},
   "outputs": [],
   "source": [
    "# Create an instance of the Evaluate class\n",
    "evaluate = Evaluate(y_test, predictions, positive_class_probabilities)"
   ]
  },
  {
   "cell_type": "code",
   "execution_count": 19,
   "metadata": {},
   "outputs": [
    {
     "data": {
      "text/plain": [
       "{'Accuracy': 0.8448275862068966,\n",
       " 'Confusion Matrix Rates': {'TN Rate': 0.3390804597701149,\n",
       "  'FP Rate': 0.06321839080459771,\n",
       "  'FN Rate': 0.09195402298850575,\n",
       "  'TP Rate': 0.5057471264367817},\n",
       " 'Precision': 0.8888888888888888,\n",
       " 'Recall': 0.8461538461538461,\n",
       " 'F1 Score': 0.8669950738916256,\n",
       " 'MCC': 0.682250101843306,\n",
       " 'AUC': 0.8947802197802197}"
      ]
     },
     "execution_count": 19,
     "metadata": {},
     "output_type": "execute_result"
    }
   ],
   "source": [
    "evaluate.get_all_metrics()"
   ]
  },
  {
   "cell_type": "code",
   "execution_count": 20,
   "metadata": {},
   "outputs": [
    {
     "data": {
      "image/png": "[encoded data removed]",
      "text/plain": [
       "<Figure size 432x288 with 2 Axes>"
      ]
     },
     "metadata": {
      "needs_background": "light"
     },
     "output_type": "display_data"
    }
   ],
   "source": [
    "# Plotting the confusion matrix and ROC curve\n",
    "evaluate.plot_confusion_matrix()"
   ]
  },
  {
   "cell_type": "code",
   "execution_count": 21,
   "metadata": {},
   "outputs": [
    {
     "data": {
      "image/png": "[encoded data removed]",
      "text/plain": [
       "<Figure size 432x288 with 1 Axes>"
      ]
     },
     "metadata": {
      "needs_background": "light"
     },
     "output_type": "display_data"
    }
   ],
   "source": [
    "evaluate.plot_roc_curve()"
   ]
  }
 ],
 "metadata": {
  "kernelspec": {
   "display_name": "base",
   "language": "python",
   "name": "python3"
  },
  "language_info": {
   "codemirror_mode": {
    "name": "ipython",
    "version": 3
   },
   "file_extension": ".py",
   "mimetype": "text/x-python",
   "name": "python",
   "nbconvert_exporter": "python",
   "pygments_lexer": "ipython3",
   "version": "3.9.12"
  }
 },
 "nbformat": 4,
 "nbformat_minor": 2
}
