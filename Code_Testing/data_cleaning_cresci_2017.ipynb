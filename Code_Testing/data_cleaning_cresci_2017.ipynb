{
 "cells": [
  {
   "cell_type": "code",
   "execution_count": 1,
   "metadata": {},
   "outputs": [],
   "source": [
    "import pandas as pd\n",
    "import numpy as np\n",
    "import os\n",
    "from datetime import datetime\n",
    "from sklearn.preprocessing import MinMaxScaler"
   ]
  },
  {
   "cell_type": "markdown",
   "metadata": {},
   "source": [
    "## Inspection"
   ]
  },
  {
   "cell_type": "code",
   "execution_count": 10,
   "metadata": {},
   "outputs": [],
   "source": [
    "# Read files \n",
    "tweets = pd.read_csv(\"./traditional_spambots_1.csv/traditional_spambots_1.csv/tweets.csv\", encoding='utf-8')\n",
    "users = pd.read_csv(\"./traditional_spambots_1.csv/traditional_spambots_1.csv/tweets.csv\", encoding='utf-8')\n"
   ]
  },
  {
   "cell_type": "code",
   "execution_count": 97,
   "metadata": {},
   "outputs": [],
   "source": [
    "# If I want to loop some values\n",
    "files_dict = {\n",
    "    'tweets': tweets,\n",
    "    'users': users\n",
    "}"
   ]
  },
  {
   "cell_type": "code",
   "execution_count": 98,
   "metadata": {},
   "outputs": [
    {
     "name": "stdout",
     "output_type": "stream",
     "text": [
      "Dataframe name: tweets\n",
      "                       created_at                  id  \\\n",
      "0  Tue Mar 26 14:46:37 +0000 2013  316561836378030080   \n",
      "1  Tue Mar 26 13:00:31 +0000 2013  316535134167912449   \n",
      "2  Tue Mar 26 09:54:28 +0000 2013  316488311562727424   \n",
      "3  Tue Mar 26 00:21:19 +0000 2013  316344076775587841   \n",
      "4  Mon Mar 25 14:46:36 +0000 2013  316199441537327104   \n",
      "\n",
      "                                                text  \\\n",
      "0  The ScreenWeek h15 Daily is out! http://t.co/y...   \n",
      "1  Sw Daily Top News: http://t.co/nFV9JppRPl - to...   \n",
      "2  The Davide Dellacasa Daily is out! http://t.co...   \n",
      "3  Sw Top Story: Planes -- Il Teaser Trailer Uffi...   \n",
      "4  The ScreenWeek h15 Daily is out! http://t.co/y...   \n",
      "\n",
      "                                              source  user_id  truncated  \\\n",
      "0  <a href=\"http://paper.li\" rel=\"nofollow\">Paper...  3610511        NaN   \n",
      "1  <a href=\"http://tweetedtimes.com\" rel=\"nofollo...  3610511        NaN   \n",
      "2  <a href=\"http://paper.li\" rel=\"nofollow\">Paper...  3610511        NaN   \n",
      "3  <a href=\"http://tweetedtimes.com\" rel=\"nofollo...  3610511        NaN   \n",
      "4  <a href=\"http://paper.li\" rel=\"nofollow\">Paper...  3610511        NaN   \n",
      "\n",
      "   in_reply_to_status_id  in_reply_to_user_id in_reply_to_screen_name  \\\n",
      "0                      0                    0                     NaN   \n",
      "1                      0                    0                     NaN   \n",
      "2                      0                    0                     NaN   \n",
      "3                      0                    0                     NaN   \n",
      "4                      0                    0                     NaN   \n",
      "\n",
      "   retweeted_status_id  geo place  retweet_count  reply_count  favorite_count  \\\n",
      "0                  NaN  NaN   NaN              0          0.0             0.0   \n",
      "1                  NaN  NaN   NaN              0          0.0             0.0   \n",
      "2                  NaN  NaN   NaN              0          0.0             0.0   \n",
      "3                  NaN  NaN   NaN              1          0.0             0.0   \n",
      "4                  NaN  NaN   NaN              0          0.0             0.0   \n",
      "\n",
      "   num_hashtags  num_urls  num_mentions            timestamp  \n",
      "0             0         1             2  2013-03-26 15:46:37  \n",
      "1             0         1             0  2013-03-26 14:00:31  \n",
      "2             0         1             1  2013-03-26 10:54:28  \n",
      "3             0         2             0  2013-03-26 01:21:19  \n",
      "4             0         1             3  2013-03-25 15:46:36   \n",
      "\n",
      "\n",
      "Dataframe name: users\n",
      "        id              name screen_name  statuses_count  followers_count  \\\n",
      "0  3610511  Davide Dellacasa      braddd           20370             5470   \n",
      "1  5656162    Simone Economo       eKoeS            3131              506   \n",
      "2  5682702            tacone     tacone_            4024              264   \n",
      "3  6067292          alesaura    alesstar           40586              640   \n",
      "4  6015122            Angelo  PerDiletto            2016               62   \n",
      "\n",
      "   friends_count  favourites_count  listed_count  \\\n",
      "0           2385               145            52   \n",
      "1            381                 9            40   \n",
      "2             87               323            16   \n",
      "3            622              1118            32   \n",
      "4             64                13             0   \n",
      "\n",
      "                       created_at                                url  ...  \\\n",
      "0  Fri Apr 06 10:58:22 +0000 2007           http://braddd.tumblr.com  ...   \n",
      "1  Mon Apr 30 15:08:42 +0000 2007         http://www.lineheight.net/  ...   \n",
      "2  Tue May 01 11:53:40 +0000 2007               http://t.co/LKrl1dZE  ...   \n",
      "3  Tue May 15 16:55:16 +0000 2007     http://alesstar.wordpress.com/  ...   \n",
      "4  Sun May 13 19:52:00 +0000 2007  http://www.flickr.com/per_diletto  ...   \n",
      "\n",
      "  profile_sidebar_fill_color  \\\n",
      "0                     FFF7CC   \n",
      "1                     DDEEF6   \n",
      "2                     000000   \n",
      "3                     95E8EC   \n",
      "4                     F6F6F6   \n",
      "\n",
      "                        profile_background_image_url profile_background_color  \\\n",
      "0  http://a0.twimg.com/profile_background_images/...                   BADFCD   \n",
      "1    http://a0.twimg.com/images/themes/theme1/bg.png                   C0DEED   \n",
      "2  http://a0.twimg.com/profile_background_images/...                   1A1B1F   \n",
      "3    http://a0.twimg.com/images/themes/theme4/bg.gif                   0099B9   \n",
      "4   http://a0.twimg.com/images/themes/theme18/bg.gif                   ACDED6   \n",
      "\n",
      "   profile_link_color  utc_offset  protected verified  \\\n",
      "0              FF0000      3600.0        NaN      NaN   \n",
      "1              0084B4      3600.0        NaN      NaN   \n",
      "2              2FC2EF      3600.0        NaN      NaN   \n",
      "3              0099B9      3600.0        NaN      NaN   \n",
      "4              038543      3600.0        NaN      NaN   \n",
      "\n",
      "                                         description              updated  \\\n",
      "0  Founder of http://www.screenweek.it & http://w...  2015-02-14 10:54:49   \n",
      "1  BSc degree (cum laude) in Computer Engineering...  2015-02-14 10:54:49   \n",
      "2                             Cogito ergo bestemmio.  2015-02-14 10:54:49   \n",
      "3               Se la vita ti dà sarde, scapocciale!  2015-02-14 10:54:49   \n",
      "4                                     Je me souviens  2015-02-14 10:54:49   \n",
      "\n",
      "  dataset  \n",
      "0     E13  \n",
      "1     E13  \n",
      "2     E13  \n",
      "3     E13  \n",
      "4     E13  \n",
      "\n",
      "[5 rows x 34 columns] \n",
      "\n",
      "\n"
     ]
    }
   ],
   "source": [
    "# Initial look of each one \n",
    "for name, df in files_dict.items():\n",
    "    print(f\"Dataframe name: {name}\")\n",
    "    print(df.head(),\"\\n\\n\")"
   ]
  },
  {
   "cell_type": "code",
   "execution_count": 99,
   "metadata": {},
   "outputs": [
    {
     "name": "stdout",
     "output_type": "stream",
     "text": [
      "Dataframe name: tweets\n",
      "(2068037, 19) \n",
      "\n",
      "\n",
      "Dataframe name: users\n",
      "(1481, 34) \n",
      "\n",
      "\n"
     ]
    }
   ],
   "source": [
    "# Shapes\n",
    "for name, df in files_dict.items():\n",
    "    print(f\"Dataframe name: {name}\")\n",
    "    print(df.shape,\"\\n\\n\")"
   ]
  },
  {
   "cell_type": "code",
   "execution_count": 100,
   "metadata": {},
   "outputs": [
    {
     "name": "stdout",
     "output_type": "stream",
     "text": [
      "Dataframe name: tweets\n",
      "<class 'pandas.core.frame.DataFrame'>\n",
      "RangeIndex: 2068037 entries, 0 to 2068036\n",
      "Data columns (total 19 columns):\n",
      " #   Column                   Dtype  \n",
      "---  ------                   -----  \n",
      " 0   created_at               object \n",
      " 1   id                       int64  \n",
      " 2   text                     object \n",
      " 3   source                   object \n",
      " 4   user_id                  int64  \n",
      " 5   truncated                float64\n",
      " 6   in_reply_to_status_id    int64  \n",
      " 7   in_reply_to_user_id      int64  \n",
      " 8   in_reply_to_screen_name  object \n",
      " 9   retweeted_status_id      float64\n",
      " 10  geo                      float64\n",
      " 11  place                    object \n",
      " 12  retweet_count            int64  \n",
      " 13  reply_count              float64\n",
      " 14  favorite_count           float64\n",
      " 15  num_hashtags             int64  \n",
      " 16  num_urls                 int64  \n",
      " 17  num_mentions             int64  \n",
      " 18  timestamp                object \n",
      "dtypes: float64(5), int64(8), object(6)\n",
      "memory usage: 299.8+ MB\n",
      "None \n",
      "\n",
      "\n",
      "Dataframe name: users\n"
     ]
    },
    {
     "name": "stdout",
     "output_type": "stream",
     "text": [
      "<class 'pandas.core.frame.DataFrame'>\n",
      "RangeIndex: 1481 entries, 0 to 1480\n",
      "Data columns (total 34 columns):\n",
      " #   Column                              Non-Null Count  Dtype  \n",
      "---  ------                              --------------  -----  \n",
      " 0   id                                  1481 non-null   int64  \n",
      " 1   name                                1481 non-null   object \n",
      " 2   screen_name                         1481 non-null   object \n",
      " 3   statuses_count                      1481 non-null   int64  \n",
      " 4   followers_count                     1481 non-null   int64  \n",
      " 5   friends_count                       1481 non-null   int64  \n",
      " 6   favourites_count                    1481 non-null   int64  \n",
      " 7   listed_count                        1481 non-null   int64  \n",
      " 8   created_at                          1481 non-null   object \n",
      " 9   url                                 463 non-null    object \n",
      " 10  lang                                1481 non-null   object \n",
      " 11  time_zone                           1063 non-null   object \n",
      " 12  location                            989 non-null    object \n",
      " 13  default_profile                     397 non-null    float64\n",
      " 14  default_profile_image               4 non-null      float64\n",
      " 15  geo_enabled                         719 non-null    float64\n",
      " 16  profile_image_url                   1481 non-null   object \n",
      " 17  profile_banner_url                  985 non-null    object \n",
      " 18  profile_use_background_image        1423 non-null   float64\n",
      " 19  profile_background_image_url_https  1481 non-null   object \n",
      " 20  profile_text_color                  1481 non-null   object \n",
      " 21  profile_image_url_https             1481 non-null   object \n",
      " 22  profile_sidebar_border_color        1481 non-null   object \n",
      " 23  profile_background_tile             486 non-null    float64\n",
      " 24  profile_sidebar_fill_color          1481 non-null   object \n",
      " 25  profile_background_image_url        1481 non-null   object \n",
      " 26  profile_background_color            1481 non-null   object \n",
      " 27  profile_link_color                  1481 non-null   object \n",
      " 28  utc_offset                          1063 non-null   float64\n",
      " 29  protected                           0 non-null      float64\n",
      " 30  verified                            0 non-null      float64\n",
      " 31  description                         1463 non-null   object \n",
      " 32  updated                             1481 non-null   object \n",
      " 33  dataset                             1481 non-null   object \n",
      "dtypes: float64(8), int64(6), object(20)\n",
      "memory usage: 393.5+ KB\n",
      "None \n",
      "\n",
      "\n"
     ]
    }
   ],
   "source": [
    "# Info\n",
    "for name, df in files_dict.items():\n",
    "    print(f\"Dataframe name: {name}\")\n",
    "    print(df.info(),\"\\n\\n\")"
   ]
  },
  {
   "cell_type": "code",
   "execution_count": 101,
   "metadata": {},
   "outputs": [
    {
     "name": "stdout",
     "output_type": "stream",
     "text": [
      "COLUMN created_at\n",
      "0    Tue Mar 26 14:46:37 +0000 2013\n",
      "1    Tue Mar 26 13:00:31 +0000 2013\n",
      "2    Tue Mar 26 09:54:28 +0000 2013\n",
      "3    Tue Mar 26 00:21:19 +0000 2013\n",
      "4    Mon Mar 25 14:46:36 +0000 2013\n",
      "Name: created_at, dtype: object \n",
      "\n",
      "\n",
      "COLUMN id\n",
      "0    316561836378030080\n",
      "1    316535134167912449\n",
      "2    316488311562727424\n",
      "3    316344076775587841\n",
      "4    316199441537327104\n",
      "Name: id, dtype: int64 \n",
      "\n",
      "\n",
      "COLUMN text\n",
      "0    The ScreenWeek h15 Daily is out! http://t.co/y...\n",
      "1    Sw Daily Top News: http://t.co/nFV9JppRPl - to...\n",
      "2    The Davide Dellacasa Daily is out! http://t.co...\n",
      "3    Sw Top Story: Planes -- Il Teaser Trailer Uffi...\n",
      "4    The ScreenWeek h15 Daily is out! http://t.co/y...\n",
      "Name: text, dtype: object \n",
      "\n",
      "\n",
      "COLUMN source\n",
      "0    <a href=\"http://paper.li\" rel=\"nofollow\">Paper...\n",
      "1    <a href=\"http://tweetedtimes.com\" rel=\"nofollo...\n",
      "2    <a href=\"http://paper.li\" rel=\"nofollow\">Paper...\n",
      "3    <a href=\"http://tweetedtimes.com\" rel=\"nofollo...\n",
      "4    <a href=\"http://paper.li\" rel=\"nofollow\">Paper...\n",
      "Name: source, dtype: object \n",
      "\n",
      "\n",
      "COLUMN user_id\n",
      "0    3610511\n",
      "1    3610511\n",
      "2    3610511\n",
      "3    3610511\n",
      "4    3610511\n",
      "Name: user_id, dtype: int64 \n",
      "\n",
      "\n",
      "COLUMN truncated\n",
      "0   NaN\n",
      "1   NaN\n",
      "2   NaN\n",
      "3   NaN\n",
      "4   NaN\n",
      "Name: truncated, dtype: float64 \n",
      "\n",
      "\n",
      "COLUMN in_reply_to_status_id\n",
      "0    0\n",
      "1    0\n",
      "2    0\n",
      "3    0\n",
      "4    0\n",
      "Name: in_reply_to_status_id, dtype: int64 \n",
      "\n",
      "\n",
      "COLUMN in_reply_to_user_id\n",
      "0    0\n",
      "1    0\n",
      "2    0\n",
      "3    0\n",
      "4    0\n",
      "Name: in_reply_to_user_id, dtype: int64 \n",
      "\n",
      "\n",
      "COLUMN in_reply_to_screen_name\n",
      "0    NaN\n",
      "1    NaN\n",
      "2    NaN\n",
      "3    NaN\n",
      "4    NaN\n",
      "Name: in_reply_to_screen_name, dtype: object \n",
      "\n",
      "\n",
      "COLUMN retweeted_status_id\n",
      "0   NaN\n",
      "1   NaN\n",
      "2   NaN\n",
      "3   NaN\n",
      "4   NaN\n",
      "Name: retweeted_status_id, dtype: float64 \n",
      "\n",
      "\n",
      "COLUMN geo\n",
      "0   NaN\n",
      "1   NaN\n",
      "2   NaN\n",
      "3   NaN\n",
      "4   NaN\n",
      "Name: geo, dtype: float64 \n",
      "\n",
      "\n",
      "COLUMN place\n",
      "0    NaN\n",
      "1    NaN\n",
      "2    NaN\n",
      "3    NaN\n",
      "4    NaN\n",
      "Name: place, dtype: object \n",
      "\n",
      "\n",
      "COLUMN retweet_count\n",
      "0    0\n",
      "1    0\n",
      "2    0\n",
      "3    1\n",
      "4    0\n",
      "Name: retweet_count, dtype: int64 \n",
      "\n",
      "\n",
      "COLUMN reply_count\n",
      "0    0.0\n",
      "1    0.0\n",
      "2    0.0\n",
      "3    0.0\n",
      "4    0.0\n",
      "Name: reply_count, dtype: float64 \n",
      "\n",
      "\n",
      "COLUMN favorite_count\n",
      "0    0.0\n",
      "1    0.0\n",
      "2    0.0\n",
      "3    0.0\n",
      "4    0.0\n",
      "Name: favorite_count, dtype: float64 \n",
      "\n",
      "\n",
      "COLUMN num_hashtags\n",
      "0    0\n",
      "1    0\n",
      "2    0\n",
      "3    0\n",
      "4    0\n",
      "Name: num_hashtags, dtype: int64 \n",
      "\n",
      "\n",
      "COLUMN num_urls\n",
      "0    1\n",
      "1    1\n",
      "2    1\n",
      "3    2\n",
      "4    1\n",
      "Name: num_urls, dtype: int64 \n",
      "\n",
      "\n",
      "COLUMN num_mentions\n",
      "0    2\n",
      "1    0\n",
      "2    1\n",
      "3    0\n",
      "4    3\n",
      "Name: num_mentions, dtype: int64 \n",
      "\n",
      "\n",
      "COLUMN timestamp\n",
      "0    2013-03-26 15:46:37\n",
      "1    2013-03-26 14:00:31\n",
      "2    2013-03-26 10:54:28\n",
      "3    2013-03-26 01:21:19\n",
      "4    2013-03-25 15:46:36\n",
      "Name: timestamp, dtype: object \n",
      "\n",
      "\n"
     ]
    }
   ],
   "source": [
    "# Understand each feature\n",
    "for column in tweets.columns:\n",
    "    print(f\"COLUMN {column}\")\n",
    "    print(tweets[column].head(), \"\\n\\n\")\n"
   ]
  },
  {
   "cell_type": "code",
   "execution_count": 102,
   "metadata": {},
   "outputs": [
    {
     "name": "stdout",
     "output_type": "stream",
     "text": [
      "COLUMN id\n",
      "0    3610511\n",
      "1    5656162\n",
      "2    5682702\n",
      "3    6067292\n",
      "4    6015122\n",
      "Name: id, dtype: int64 \n",
      "\n",
      "\n",
      "COLUMN name\n",
      "0    Davide Dellacasa\n",
      "1      Simone Economo\n",
      "2              tacone\n",
      "3            alesaura\n",
      "4              Angelo\n",
      "Name: name, dtype: object \n",
      "\n",
      "\n",
      "COLUMN screen_name\n",
      "0        braddd\n",
      "1         eKoeS\n",
      "2       tacone_\n",
      "3      alesstar\n",
      "4    PerDiletto\n",
      "Name: screen_name, dtype: object \n",
      "\n",
      "\n",
      "COLUMN statuses_count\n",
      "0    20370\n",
      "1     3131\n",
      "2     4024\n",
      "3    40586\n",
      "4     2016\n",
      "Name: statuses_count, dtype: int64 \n",
      "\n",
      "\n",
      "COLUMN followers_count\n",
      "0    5470\n",
      "1     506\n",
      "2     264\n",
      "3     640\n",
      "4      62\n",
      "Name: followers_count, dtype: int64 \n",
      "\n",
      "\n",
      "COLUMN friends_count\n",
      "0    2385\n",
      "1     381\n",
      "2      87\n",
      "3     622\n",
      "4      64\n",
      "Name: friends_count, dtype: int64 \n",
      "\n",
      "\n",
      "COLUMN favourites_count\n",
      "0     145\n",
      "1       9\n",
      "2     323\n",
      "3    1118\n",
      "4      13\n",
      "Name: favourites_count, dtype: int64 \n",
      "\n",
      "\n",
      "COLUMN listed_count\n",
      "0    52\n",
      "1    40\n",
      "2    16\n",
      "3    32\n",
      "4     0\n",
      "Name: listed_count, dtype: int64 \n",
      "\n",
      "\n",
      "COLUMN created_at\n",
      "0    Fri Apr 06 10:58:22 +0000 2007\n",
      "1    Mon Apr 30 15:08:42 +0000 2007\n",
      "2    Tue May 01 11:53:40 +0000 2007\n",
      "3    Tue May 15 16:55:16 +0000 2007\n",
      "4    Sun May 13 19:52:00 +0000 2007\n",
      "Name: created_at, dtype: object \n",
      "\n",
      "\n",
      "COLUMN url\n",
      "0             http://braddd.tumblr.com\n",
      "1           http://www.lineheight.net/\n",
      "2                 http://t.co/LKrl1dZE\n",
      "3       http://alesstar.wordpress.com/\n",
      "4    http://www.flickr.com/per_diletto\n",
      "Name: url, dtype: object \n",
      "\n",
      "\n",
      "COLUMN lang\n",
      "0    it\n",
      "1    en\n",
      "2    en\n",
      "3    en\n",
      "4    it\n",
      "Name: lang, dtype: object \n",
      "\n",
      "\n",
      "COLUMN time_zone\n",
      "0    Rome\n",
      "1    Rome\n",
      "2    Rome\n",
      "3    Rome\n",
      "4    Rome\n",
      "Name: time_zone, dtype: object \n",
      "\n",
      "\n",
      "COLUMN location\n",
      "0                           Roma\n",
      "1                    Rome, Italy\n",
      "2                      Internets\n",
      "3                            NaN\n",
      "4    iPhone: 44.069630,12.569966\n",
      "Name: location, dtype: object \n",
      "\n",
      "\n",
      "COLUMN default_profile\n",
      "0   NaN\n",
      "1   NaN\n",
      "2   NaN\n",
      "3   NaN\n",
      "4   NaN\n",
      "Name: default_profile, dtype: float64 \n",
      "\n",
      "\n",
      "COLUMN default_profile_image\n",
      "0   NaN\n",
      "1   NaN\n",
      "2   NaN\n",
      "3   NaN\n",
      "4   NaN\n",
      "Name: default_profile_image, dtype: float64 \n",
      "\n",
      "\n",
      "COLUMN geo_enabled\n",
      "0    NaN\n",
      "1    NaN\n",
      "2    NaN\n",
      "3    1.0\n",
      "4    1.0\n",
      "Name: geo_enabled, dtype: float64 \n",
      "\n",
      "\n",
      "COLUMN profile_image_url\n",
      "0    http://a0.twimg.com/profile_images/1575057050/...\n",
      "1    http://a0.twimg.com/profile_images/1901298312/...\n",
      "2    http://a0.twimg.com/profile_images/1640620850/...\n",
      "3    http://a0.twimg.com/profile_images/2797534662/...\n",
      "4    http://a0.twimg.com/profile_images/1073412966/...\n",
      "Name: profile_image_url, dtype: object \n",
      "\n",
      "\n",
      "COLUMN profile_banner_url\n",
      "0    https://si0.twimg.com/profile_banners/3610511/...\n",
      "1                                                  NaN\n",
      "2    https://si0.twimg.com/profile_banners/5682702/...\n",
      "3    https://si0.twimg.com/profile_banners/6067292/...\n",
      "4                                                  NaN\n",
      "Name: profile_banner_url, dtype: object \n",
      "\n",
      "\n",
      "COLUMN profile_use_background_image\n",
      "0    1.0\n",
      "1    1.0\n",
      "2    1.0\n",
      "3    1.0\n",
      "4    1.0\n",
      "Name: profile_use_background_image, dtype: float64 \n",
      "\n",
      "\n",
      "COLUMN profile_background_image_url_https\n",
      "0    https://si0.twimg.com/profile_background_image...\n",
      "1    https://si0.twimg.com/images/themes/theme1/bg.png\n",
      "2    https://si0.twimg.com/profile_background_image...\n",
      "3    https://si0.twimg.com/images/themes/theme4/bg.gif\n",
      "4    https://si0.twimg.com/images/themes/theme18/bg...\n",
      "Name: profile_background_image_url_https, dtype: object \n",
      "\n",
      "\n",
      "COLUMN profile_text_color\n",
      "0    0C3E53\n",
      "1    333333\n",
      "2    666666\n",
      "3    3C3940\n",
      "4    333333\n",
      "Name: profile_text_color, dtype: object \n",
      "\n",
      "\n",
      "COLUMN profile_image_url_https\n",
      "0    https://si0.twimg.com/profile_images/157505705...\n",
      "1    https://si0.twimg.com/profile_images/190129831...\n",
      "2    https://si0.twimg.com/profile_images/164062085...\n",
      "3    https://si0.twimg.com/profile_images/279753466...\n",
      "4    https://si0.twimg.com/profile_images/107341296...\n",
      "Name: profile_image_url_https, dtype: object \n",
      "\n",
      "\n",
      "COLUMN profile_sidebar_border_color\n",
      "0    F2E195\n",
      "1    FFFFFF\n",
      "2    181A1E\n",
      "3    FFFFFF\n",
      "4    EEEEEE\n",
      "Name: profile_sidebar_border_color, dtype: object \n",
      "\n",
      "\n",
      "COLUMN profile_background_tile\n",
      "0    NaN\n",
      "1    NaN\n",
      "2    1.0\n",
      "3    NaN\n",
      "4    NaN\n",
      "Name: profile_background_tile, dtype: float64 \n",
      "\n",
      "\n",
      "COLUMN profile_sidebar_fill_color\n",
      "0    FFF7CC\n",
      "1    DDEEF6\n",
      "2    000000\n",
      "3    95E8EC\n",
      "4    F6F6F6\n",
      "Name: profile_sidebar_fill_color, dtype: object \n",
      "\n",
      "\n",
      "COLUMN profile_background_image_url\n",
      "0    http://a0.twimg.com/profile_background_images/...\n",
      "1      http://a0.twimg.com/images/themes/theme1/bg.png\n",
      "2    http://a0.twimg.com/profile_background_images/...\n",
      "3      http://a0.twimg.com/images/themes/theme4/bg.gif\n",
      "4     http://a0.twimg.com/images/themes/theme18/bg.gif\n",
      "Name: profile_background_image_url, dtype: object \n",
      "\n",
      "\n",
      "COLUMN profile_background_color\n",
      "0    BADFCD\n",
      "1    C0DEED\n",
      "2    1A1B1F\n",
      "3    0099B9\n",
      "4    ACDED6\n",
      "Name: profile_background_color, dtype: object \n",
      "\n",
      "\n",
      "COLUMN profile_link_color\n",
      "0    FF0000\n",
      "1    0084B4\n",
      "2    2FC2EF\n",
      "3    0099B9\n",
      "4    038543\n",
      "Name: profile_link_color, dtype: object \n",
      "\n",
      "\n",
      "COLUMN utc_offset\n",
      "0    3600.0\n",
      "1    3600.0\n",
      "2    3600.0\n",
      "3    3600.0\n",
      "4    3600.0\n",
      "Name: utc_offset, dtype: float64 \n",
      "\n",
      "\n",
      "COLUMN protected\n",
      "0   NaN\n",
      "1   NaN\n",
      "2   NaN\n",
      "3   NaN\n",
      "4   NaN\n",
      "Name: protected, dtype: float64 \n",
      "\n",
      "\n",
      "COLUMN verified\n",
      "0   NaN\n",
      "1   NaN\n",
      "2   NaN\n",
      "3   NaN\n",
      "4   NaN\n",
      "Name: verified, dtype: float64 \n",
      "\n",
      "\n",
      "COLUMN description\n",
      "0    Founder of http://www.screenweek.it & http://w...\n",
      "1    BSc degree (cum laude) in Computer Engineering...\n",
      "2                               Cogito ergo bestemmio.\n",
      "3                 Se la vita ti dà sarde, scapocciale!\n",
      "4                                       Je me souviens\n",
      "Name: description, dtype: object \n",
      "\n",
      "\n",
      "COLUMN updated\n",
      "0    2015-02-14 10:54:49\n",
      "1    2015-02-14 10:54:49\n",
      "2    2015-02-14 10:54:49\n",
      "3    2015-02-14 10:54:49\n",
      "4    2015-02-14 10:54:49\n",
      "Name: updated, dtype: object \n",
      "\n",
      "\n",
      "COLUMN dataset\n",
      "0    E13\n",
      "1    E13\n",
      "2    E13\n",
      "3    E13\n",
      "4    E13\n",
      "Name: dataset, dtype: object \n",
      "\n",
      "\n"
     ]
    }
   ],
   "source": [
    "# Understand each feature\n",
    "for column in users.columns:\n",
    "    print(f\"COLUMN {column}\")\n",
    "    print(users[column].head(), \"\\n\\n\")"
   ]
  },
  {
   "cell_type": "markdown",
   "metadata": {},
   "source": [
    "Features to Keep"
   ]
  },
  {
   "cell_type": "code",
   "execution_count": 11,
   "metadata": {},
   "outputs": [],
   "source": [
    "Tweets_features = [\"user_id\", \"retweet_count\", \"reply_count\", \"favorite_count\", \"num_hashtags\", \"num_urls\", \"num_mentions\"]\n",
    "Users_features = [\"id\", \"statuses_count\", \"followers_count\", \"friends_count\", \"favourites_count\", \"listed_count\", \"created_at\"]\n"
   ]
  },
  {
   "cell_type": "markdown",
   "metadata": {},
   "source": [
    "## Cleaning"
   ]
  },
  {
   "cell_type": "code",
   "execution_count": 15,
   "metadata": {},
   "outputs": [
    {
     "ename": "KeyError",
     "evalue": "\"['statuses_count', 'followers_count', 'friends_count', 'favourites_count', 'listed_count'] not in index\"",
     "output_type": "error",
     "traceback": [
      "\u001b[1;31m---------------------------------------------------------------------------\u001b[0m",
      "\u001b[1;31mKeyError\u001b[0m                                  Traceback (most recent call last)",
      "Input \u001b[1;32mIn [15]\u001b[0m, in \u001b[0;36m<cell line: 2>\u001b[1;34m()\u001b[0m\n\u001b[0;32m      1\u001b[0m \u001b[38;5;66;03m#tweets = tweets[Tweets_features]\u001b[39;00m\n\u001b[1;32m----> 2\u001b[0m users \u001b[38;5;241m=\u001b[39m \u001b[43musers\u001b[49m\u001b[43m[\u001b[49m\u001b[43mUsers_features\u001b[49m\u001b[43m]\u001b[49m\n",
      "File \u001b[1;32mc:\\Users\\jmanu\\anaconda3\\lib\\site-packages\\pandas\\core\\frame.py:3813\u001b[0m, in \u001b[0;36mDataFrame.__getitem__\u001b[1;34m(self, key)\u001b[0m\n\u001b[0;32m   3811\u001b[0m     \u001b[38;5;28;01mif\u001b[39;00m is_iterator(key):\n\u001b[0;32m   3812\u001b[0m         key \u001b[38;5;241m=\u001b[39m \u001b[38;5;28mlist\u001b[39m(key)\n\u001b[1;32m-> 3813\u001b[0m     indexer \u001b[38;5;241m=\u001b[39m \u001b[38;5;28;43mself\u001b[39;49m\u001b[38;5;241;43m.\u001b[39;49m\u001b[43mcolumns\u001b[49m\u001b[38;5;241;43m.\u001b[39;49m\u001b[43m_get_indexer_strict\u001b[49m\u001b[43m(\u001b[49m\u001b[43mkey\u001b[49m\u001b[43m,\u001b[49m\u001b[43m \u001b[49m\u001b[38;5;124;43m\"\u001b[39;49m\u001b[38;5;124;43mcolumns\u001b[39;49m\u001b[38;5;124;43m\"\u001b[39;49m\u001b[43m)\u001b[49m[\u001b[38;5;241m1\u001b[39m]\n\u001b[0;32m   3815\u001b[0m \u001b[38;5;66;03m# take() does not accept boolean indexers\u001b[39;00m\n\u001b[0;32m   3816\u001b[0m \u001b[38;5;28;01mif\u001b[39;00m \u001b[38;5;28mgetattr\u001b[39m(indexer, \u001b[38;5;124m\"\u001b[39m\u001b[38;5;124mdtype\u001b[39m\u001b[38;5;124m\"\u001b[39m, \u001b[38;5;28;01mNone\u001b[39;00m) \u001b[38;5;241m==\u001b[39m \u001b[38;5;28mbool\u001b[39m:\n",
      "File \u001b[1;32mc:\\Users\\jmanu\\anaconda3\\lib\\site-packages\\pandas\\core\\indexes\\base.py:6070\u001b[0m, in \u001b[0;36mIndex._get_indexer_strict\u001b[1;34m(self, key, axis_name)\u001b[0m\n\u001b[0;32m   6067\u001b[0m \u001b[38;5;28;01melse\u001b[39;00m:\n\u001b[0;32m   6068\u001b[0m     keyarr, indexer, new_indexer \u001b[38;5;241m=\u001b[39m \u001b[38;5;28mself\u001b[39m\u001b[38;5;241m.\u001b[39m_reindex_non_unique(keyarr)\n\u001b[1;32m-> 6070\u001b[0m \u001b[38;5;28;43mself\u001b[39;49m\u001b[38;5;241;43m.\u001b[39;49m\u001b[43m_raise_if_missing\u001b[49m\u001b[43m(\u001b[49m\u001b[43mkeyarr\u001b[49m\u001b[43m,\u001b[49m\u001b[43m \u001b[49m\u001b[43mindexer\u001b[49m\u001b[43m,\u001b[49m\u001b[43m \u001b[49m\u001b[43maxis_name\u001b[49m\u001b[43m)\u001b[49m\n\u001b[0;32m   6072\u001b[0m keyarr \u001b[38;5;241m=\u001b[39m \u001b[38;5;28mself\u001b[39m\u001b[38;5;241m.\u001b[39mtake(indexer)\n\u001b[0;32m   6073\u001b[0m \u001b[38;5;28;01mif\u001b[39;00m \u001b[38;5;28misinstance\u001b[39m(key, Index):\n\u001b[0;32m   6074\u001b[0m     \u001b[38;5;66;03m# GH 42790 - Preserve name from an Index\u001b[39;00m\n",
      "File \u001b[1;32mc:\\Users\\jmanu\\anaconda3\\lib\\site-packages\\pandas\\core\\indexes\\base.py:6133\u001b[0m, in \u001b[0;36mIndex._raise_if_missing\u001b[1;34m(self, key, indexer, axis_name)\u001b[0m\n\u001b[0;32m   6130\u001b[0m     \u001b[38;5;28;01mraise\u001b[39;00m \u001b[38;5;167;01mKeyError\u001b[39;00m(\u001b[38;5;124mf\u001b[39m\u001b[38;5;124m\"\u001b[39m\u001b[38;5;124mNone of [\u001b[39m\u001b[38;5;132;01m{\u001b[39;00mkey\u001b[38;5;132;01m}\u001b[39;00m\u001b[38;5;124m] are in the [\u001b[39m\u001b[38;5;132;01m{\u001b[39;00maxis_name\u001b[38;5;132;01m}\u001b[39;00m\u001b[38;5;124m]\u001b[39m\u001b[38;5;124m\"\u001b[39m)\n\u001b[0;32m   6132\u001b[0m not_found \u001b[38;5;241m=\u001b[39m \u001b[38;5;28mlist\u001b[39m(ensure_index(key)[missing_mask\u001b[38;5;241m.\u001b[39mnonzero()[\u001b[38;5;241m0\u001b[39m]]\u001b[38;5;241m.\u001b[39munique())\n\u001b[1;32m-> 6133\u001b[0m \u001b[38;5;28;01mraise\u001b[39;00m \u001b[38;5;167;01mKeyError\u001b[39;00m(\u001b[38;5;124mf\u001b[39m\u001b[38;5;124m\"\u001b[39m\u001b[38;5;132;01m{\u001b[39;00mnot_found\u001b[38;5;132;01m}\u001b[39;00m\u001b[38;5;124m not in index\u001b[39m\u001b[38;5;124m\"\u001b[39m)\n",
      "\u001b[1;31mKeyError\u001b[0m: \"['statuses_count', 'followers_count', 'friends_count', 'favourites_count', 'listed_count'] not in index\""
     ]
    }
   ],
   "source": [
    "#tweets = tweets[Tweets_features]\n",
    "users = users[Users_features]"
   ]
  },
  {
   "cell_type": "markdown",
   "metadata": {},
   "source": [
    "Convert Data Types"
   ]
  },
  {
   "cell_type": "code",
   "execution_count": 105,
   "metadata": {},
   "outputs": [
    {
     "name": "stderr",
     "output_type": "stream",
     "text": [
      "C:\\Users\\jmanu\\AppData\\Local\\Temp\\ipykernel_37636\\2548618216.py:1: SettingWithCopyWarning: \n",
      "A value is trying to be set on a copy of a slice from a DataFrame.\n",
      "Try using .loc[row_indexer,col_indexer] = value instead\n",
      "\n",
      "See the caveats in the documentation: https://pandas.pydata.org/pandas-docs/stable/user_guide/indexing.html#returning-a-view-versus-a-copy\n",
      "  users['created_at'] = pd.to_datetime(users['created_at'])\n"
     ]
    }
   ],
   "source": [
    "users['created_at'] = pd.to_datetime(users['created_at'])"
   ]
  },
  {
   "cell_type": "markdown",
   "metadata": {},
   "source": [
    "Missing Values"
   ]
  },
  {
   "cell_type": "code",
   "execution_count": 106,
   "metadata": {},
   "outputs": [
    {
     "name": "stderr",
     "output_type": "stream",
     "text": [
      "C:\\Users\\jmanu\\AppData\\Local\\Temp\\ipykernel_37636\\1915932557.py:4: SettingWithCopyWarning: \n",
      "A value is trying to be set on a copy of a slice from a DataFrame.\n",
      "Try using .loc[row_indexer,col_indexer] = value instead\n",
      "\n",
      "See the caveats in the documentation: https://pandas.pydata.org/pandas-docs/stable/user_guide/indexing.html#returning-a-view-versus-a-copy\n",
      "  tweets[col] = tweets[col].fillna(0)\n",
      "C:\\Users\\jmanu\\AppData\\Local\\Temp\\ipykernel_37636\\1915932557.py:9: SettingWithCopyWarning: \n",
      "A value is trying to be set on a copy of a slice from a DataFrame.\n",
      "Try using .loc[row_indexer,col_indexer] = value instead\n",
      "\n",
      "See the caveats in the documentation: https://pandas.pydata.org/pandas-docs/stable/user_guide/indexing.html#returning-a-view-versus-a-copy\n",
      "  users[col] = users[col].fillna(0)\n"
     ]
    }
   ],
   "source": [
    "# Fill missing values for all numeric columns in tweets DataFrame\n",
    "for col in tweets.columns:\n",
    "    if pd.api.types.is_numeric_dtype(tweets[col]):\n",
    "        tweets[col] = tweets[col].fillna(0)\n",
    "\n",
    "# Fill missing values for all numeric columns in users DataFrame\n",
    "for col in users.columns:\n",
    "    if pd.api.types.is_numeric_dtype(users[col]):\n",
    "        users[col] = users[col].fillna(0)"
   ]
  },
  {
   "cell_type": "markdown",
   "metadata": {},
   "source": [
    "Feature Engeniering in Users"
   ]
  },
  {
   "cell_type": "code",
   "execution_count": 107,
   "metadata": {},
   "outputs": [
    {
     "name": "stderr",
     "output_type": "stream",
     "text": [
      "C:\\Users\\jmanu\\AppData\\Local\\Temp\\ipykernel_37636\\3474127401.py:1: SettingWithCopyWarning: \n",
      "A value is trying to be set on a copy of a slice from a DataFrame.\n",
      "Try using .loc[row_indexer,col_indexer] = value instead\n",
      "\n",
      "See the caveats in the documentation: https://pandas.pydata.org/pandas-docs/stable/user_guide/indexing.html#returning-a-view-versus-a-copy\n",
      "  users['account_age_years'] = 2015 - users['created_at'].dt.year\n",
      "C:\\Users\\jmanu\\AppData\\Local\\Temp\\ipykernel_37636\\3474127401.py:2: SettingWithCopyWarning: \n",
      "A value is trying to be set on a copy of a slice from a DataFrame.\n",
      "Try using .loc[row_indexer,col_indexer] = value instead\n",
      "\n",
      "See the caveats in the documentation: https://pandas.pydata.org/pandas-docs/stable/user_guide/indexing.html#returning-a-view-versus-a-copy\n",
      "  users['followers_to_friends_ratio'] = users['followers_count'] / users['friends_count']\n",
      "C:\\Users\\jmanu\\AppData\\Local\\Temp\\ipykernel_37636\\3474127401.py:3: SettingWithCopyWarning: \n",
      "A value is trying to be set on a copy of a slice from a DataFrame\n",
      "\n",
      "See the caveats in the documentation: https://pandas.pydata.org/pandas-docs/stable/user_guide/indexing.html#returning-a-view-versus-a-copy\n",
      "  users['followers_to_friends_ratio'].replace([np.inf, -np.inf], np.nan, inplace=True)\n",
      "C:\\Users\\jmanu\\AppData\\Local\\Temp\\ipykernel_37636\\3474127401.py:4: SettingWithCopyWarning: \n",
      "A value is trying to be set on a copy of a slice from a DataFrame.\n",
      "Try using .loc[row_indexer,col_indexer] = value instead\n",
      "\n",
      "See the caveats in the documentation: https://pandas.pydata.org/pandas-docs/stable/user_guide/indexing.html#returning-a-view-versus-a-copy\n",
      "  users['followers_to_friends_ratio'] = users['followers_to_friends_ratio'].fillna(0)  # Handle division by zero\n"
     ]
    }
   ],
   "source": [
    "users['account_age_years'] = 2015 - users['created_at'].dt.year\n",
    "users['followers_to_friends_ratio'] = users['followers_count'] / users['friends_count']\n",
    "users['followers_to_friends_ratio'].replace([np.inf, -np.inf], np.nan, inplace=True)\n",
    "users['followers_to_friends_ratio'] = users['followers_to_friends_ratio'].fillna(0)  # Handle division by zero"
   ]
  },
  {
   "cell_type": "markdown",
   "metadata": {},
   "source": [
    "Drop Date"
   ]
  },
  {
   "cell_type": "code",
   "execution_count": 108,
   "metadata": {},
   "outputs": [],
   "source": [
    "users = users.drop([\"created_at\"], axis=1)"
   ]
  },
  {
   "cell_type": "markdown",
   "metadata": {},
   "source": [
    "Aggregate Tweet"
   ]
  },
  {
   "cell_type": "code",
   "execution_count": 109,
   "metadata": {},
   "outputs": [
    {
     "name": "stderr",
     "output_type": "stream",
     "text": [
      "C:\\Users\\jmanu\\AppData\\Local\\Temp\\ipykernel_37636\\2251798934.py:1: SettingWithCopyWarning: \n",
      "A value is trying to be set on a copy of a slice from a DataFrame.\n",
      "Try using .loc[row_indexer,col_indexer] = value instead\n",
      "\n",
      "See the caveats in the documentation: https://pandas.pydata.org/pandas-docs/stable/user_guide/indexing.html#returning-a-view-versus-a-copy\n",
      "  tweets[\"num_tweets\"] = 1\n"
     ]
    }
   ],
   "source": [
    "tweets[\"num_tweets\"] = 1"
   ]
  },
  {
   "cell_type": "code",
   "execution_count": 110,
   "metadata": {},
   "outputs": [],
   "source": [
    "tweets = tweets.groupby(['user_id']).sum().reset_index()"
   ]
  },
  {
   "cell_type": "code",
   "execution_count": 111,
   "metadata": {},
   "outputs": [],
   "source": [
    "tweets[\"retweet_ratio\"] = tweets[\"retweet_count\"]/tweets[\"num_tweets\"]\n",
    "tweets[\"reply_ration\"] = tweets[\"reply_count\"]/tweets[\"num_tweets\"]"
   ]
  },
  {
   "cell_type": "markdown",
   "metadata": {},
   "source": [
    "Normalize"
   ]
  },
  {
   "cell_type": "code",
   "execution_count": 112,
   "metadata": {},
   "outputs": [],
   "source": [
    "scaler = MinMaxScaler()\n",
    "users.iloc[:,1:] = scaler.fit_transform(users.iloc[:,1:])\n",
    "tweets.iloc[:,1:] = scaler.fit_transform(tweets.iloc[:,1:])\n"
   ]
  },
  {
   "cell_type": "markdown",
   "metadata": {},
   "source": [
    "Merge"
   ]
  },
  {
   "cell_type": "code",
   "execution_count": 120,
   "metadata": {},
   "outputs": [],
   "source": [
    "merged_df = pd.merge(tweets, users, left_on='user_id', right_on='id', how='inner')\n"
   ]
  },
  {
   "cell_type": "markdown",
   "metadata": {},
   "source": [
    "Save Data "
   ]
  },
  {
   "cell_type": "code",
   "execution_count": 126,
   "metadata": {},
   "outputs": [],
   "source": [
    "# Define the new folder path\n",
    "new_folder_path = './E13.csv/clean'\n",
    "\n",
    "# Create the folder if it does not exist\n",
    "if not os.path.exists(new_folder_path):\n",
    "    os.makedirs(new_folder_path)\n",
    "\n",
    "merged_df.to_csv(f'{new_folder_path}/clean_merged.csv', index=False, encoding='utf-8')\n",
    "users.to_csv(f'{new_folder_path}/clean_users.csv', index=False, encoding='utf-8')"
   ]
  },
  {
   "cell_type": "markdown",
   "metadata": {},
   "source": [
    "## Loop Across Folders"
   ]
  },
  {
   "cell_type": "code",
   "execution_count": 17,
   "metadata": {},
   "outputs": [
    {
     "data": {
      "text/plain": [
       "['fake_followers.csv',\n",
       " 'genuine_accounts.csv',\n",
       " 'social_spambots_1.csv',\n",
       " 'social_spambots_2.csv',\n",
       " 'social_spambots_3.csv']"
      ]
     },
     "execution_count": 17,
     "metadata": {},
     "output_type": "execute_result"
    }
   ],
   "source": [
    "main_folders[1:-4]"
   ]
  },
  {
   "cell_type": "code",
   "execution_count": 8,
   "metadata": {},
   "outputs": [
    {
     "name": "stdout",
     "output_type": "stream",
     "text": [
      "Processing datasets in fake_followers.csv...\n"
     ]
    },
    {
     "name": "stderr",
     "output_type": "stream",
     "text": [
      "C:\\Users\\jmanu\\AppData\\Local\\Temp\\ipykernel_34064\\3091488195.py:21: DtypeWarning: Columns (8,11) have mixed types. Specify dtype option on import or set low_memory=False.\n",
      "  tweets = pd.read_csv(tweets_path, encoding='utf-8')\n"
     ]
    },
    {
     "name": "stdout",
     "output_type": "stream",
     "text": [
      "Tweets: 196027 rows, Users: 3351 rows\n",
      "******FILES SAVED********\n",
      "\n",
      "\n",
      "Processing datasets in genuine_accounts.csv...\n"
     ]
    },
    {
     "name": "stderr",
     "output_type": "stream",
     "text": [
      "C:\\Users\\jmanu\\AppData\\Local\\Temp\\ipykernel_34064\\3091488195.py:21: DtypeWarning: Columns (0) have mixed types. Specify dtype option on import or set low_memory=False.\n",
      "  tweets = pd.read_csv(tweets_path, encoding='utf-8')\n"
     ]
    },
    {
     "name": "stdout",
     "output_type": "stream",
     "text": [
      "Tweets: 2839362 rows, Users: 3474 rows\n",
      "******FILES SAVED********\n",
      "\n",
      "\n",
      "Processing datasets in social_spambots_1.csv...\n"
     ]
    },
    {
     "name": "stderr",
     "output_type": "stream",
     "text": [
      "C:\\Users\\jmanu\\AppData\\Local\\Temp\\ipykernel_34064\\3091488195.py:21: DtypeWarning: Columns (10) have mixed types. Specify dtype option on import or set low_memory=False.\n",
      "  tweets = pd.read_csv(tweets_path, encoding='utf-8')\n"
     ]
    },
    {
     "name": "stdout",
     "output_type": "stream",
     "text": [
      "Tweets: 1610034 rows, Users: 991 rows\n"
     ]
    },
    {
     "name": "stderr",
     "output_type": "stream",
     "text": [
      "C:\\Users\\jmanu\\AppData\\Local\\Temp\\ipykernel_34064\\3091488195.py:67: DeprecationWarning: In a future version, `df.iloc[:, i] = newvals` will attempt to set the values inplace instead of always setting a new array. To retain the old behavior, use either `df[df.columns[i]] = newvals` or, if columns are non-unique, `df.isetitem(i, newvals)`\n",
      "  tweets.iloc[:,1:] = scaler.fit_transform(tweets.iloc[:,1:])\n"
     ]
    },
    {
     "name": "stdout",
     "output_type": "stream",
     "text": [
      "******FILES SAVED********\n",
      "\n",
      "\n",
      "Processing datasets in social_spambots_2.csv...\n"
     ]
    },
    {
     "name": "stderr",
     "output_type": "stream",
     "text": [
      "C:\\Users\\jmanu\\AppData\\Local\\Temp\\ipykernel_34064\\3091488195.py:21: DtypeWarning: Columns (10) have mixed types. Specify dtype option on import or set low_memory=False.\n",
      "  tweets = pd.read_csv(tweets_path, encoding='utf-8')\n"
     ]
    },
    {
     "name": "stdout",
     "output_type": "stream",
     "text": [
      "Tweets: 428542 rows, Users: 3457 rows\n"
     ]
    },
    {
     "name": "stderr",
     "output_type": "stream",
     "text": [
      "C:\\Users\\jmanu\\AppData\\Local\\Temp\\ipykernel_34064\\3091488195.py:67: DeprecationWarning: In a future version, `df.iloc[:, i] = newvals` will attempt to set the values inplace instead of always setting a new array. To retain the old behavior, use either `df[df.columns[i]] = newvals` or, if columns are non-unique, `df.isetitem(i, newvals)`\n",
      "  tweets.iloc[:,1:] = scaler.fit_transform(tweets.iloc[:,1:])\n"
     ]
    },
    {
     "name": "stdout",
     "output_type": "stream",
     "text": [
      "******FILES SAVED********\n",
      "\n",
      "\n",
      "Processing datasets in social_spambots_3.csv...\n"
     ]
    },
    {
     "name": "stderr",
     "output_type": "stream",
     "text": [
      "C:\\Users\\jmanu\\AppData\\Local\\Temp\\ipykernel_34064\\3091488195.py:21: DtypeWarning: Columns (7,10) have mixed types. Specify dtype option on import or set low_memory=False.\n",
      "  tweets = pd.read_csv(tweets_path, encoding='utf-8')\n"
     ]
    },
    {
     "name": "stdout",
     "output_type": "stream",
     "text": [
      "Tweets: 1418557 rows, Users: 464 rows\n"
     ]
    },
    {
     "name": "stderr",
     "output_type": "stream",
     "text": [
      "C:\\Users\\jmanu\\AppData\\Local\\Temp\\ipykernel_34064\\3091488195.py:67: DeprecationWarning: In a future version, `df.iloc[:, i] = newvals` will attempt to set the values inplace instead of always setting a new array. To retain the old behavior, use either `df[df.columns[i]] = newvals` or, if columns are non-unique, `df.isetitem(i, newvals)`\n",
      "  tweets.iloc[:,1:] = scaler.fit_transform(tweets.iloc[:,1:])\n"
     ]
    },
    {
     "name": "stdout",
     "output_type": "stream",
     "text": [
      "******FILES SAVED********\n",
      "\n",
      "\n",
      "Processing datasets in traditional_spambots_1.csv...\n",
      "Tweets: 145094 rows, Users: 1000 rows\n"
     ]
    },
    {
     "ename": "ParserError",
     "evalue": "Unknown string format: 1183552203000L present at position 0",
     "output_type": "error",
     "traceback": [
      "\u001b[1;31m---------------------------------------------------------------------------\u001b[0m",
      "\u001b[1;31mParserError\u001b[0m                               Traceback (most recent call last)",
      "File \u001b[1;32mc:\\Users\\jmanu\\anaconda3\\lib\\site-packages\\pandas\\_libs\\tslib.pyx:605\u001b[0m, in \u001b[0;36mpandas._libs.tslib.array_to_datetime\u001b[1;34m()\u001b[0m\n",
      "File \u001b[1;32mc:\\Users\\jmanu\\anaconda3\\lib\\site-packages\\pandas\\_libs\\tslibs\\parsing.pyx:318\u001b[0m, in \u001b[0;36mpandas._libs.tslibs.parsing.parse_datetime_string\u001b[1;34m()\u001b[0m\n",
      "File \u001b[1;32mc:\\Users\\jmanu\\anaconda3\\lib\\site-packages\\dateutil\\parser\\_parser.py:1368\u001b[0m, in \u001b[0;36mparse\u001b[1;34m(timestr, parserinfo, **kwargs)\u001b[0m\n\u001b[0;32m   1367\u001b[0m \u001b[38;5;28;01melse\u001b[39;00m:\n\u001b[1;32m-> 1368\u001b[0m     \u001b[38;5;28;01mreturn\u001b[39;00m DEFAULTPARSER\u001b[38;5;241m.\u001b[39mparse(timestr, \u001b[38;5;241m*\u001b[39m\u001b[38;5;241m*\u001b[39mkwargs)\n",
      "File \u001b[1;32mc:\\Users\\jmanu\\anaconda3\\lib\\site-packages\\dateutil\\parser\\_parser.py:643\u001b[0m, in \u001b[0;36mparser.parse\u001b[1;34m(self, timestr, default, ignoretz, tzinfos, **kwargs)\u001b[0m\n\u001b[0;32m    642\u001b[0m \u001b[38;5;28;01mif\u001b[39;00m res \u001b[38;5;129;01mis\u001b[39;00m \u001b[38;5;28;01mNone\u001b[39;00m:\n\u001b[1;32m--> 643\u001b[0m     \u001b[38;5;28;01mraise\u001b[39;00m ParserError(\u001b[38;5;124m\"\u001b[39m\u001b[38;5;124mUnknown string format: \u001b[39m\u001b[38;5;132;01m%s\u001b[39;00m\u001b[38;5;124m\"\u001b[39m, timestr)\n\u001b[0;32m    645\u001b[0m \u001b[38;5;28;01mif\u001b[39;00m \u001b[38;5;28mlen\u001b[39m(res) \u001b[38;5;241m==\u001b[39m \u001b[38;5;241m0\u001b[39m:\n",
      "\u001b[1;31mParserError\u001b[0m: Unknown string format: 1183552203000L",
      "\nDuring handling of the above exception, another exception occurred:\n",
      "\u001b[1;31mTypeError\u001b[0m                                 Traceback (most recent call last)",
      "File \u001b[1;32mc:\\Users\\jmanu\\anaconda3\\lib\\site-packages\\pandas\\_libs\\tslib.pyx:616\u001b[0m, in \u001b[0;36mpandas._libs.tslib.array_to_datetime\u001b[1;34m()\u001b[0m\n",
      "\u001b[1;31mTypeError\u001b[0m: invalid string coercion to datetime for \"1183552203000L\" at position 0",
      "\nDuring handling of the above exception, another exception occurred:\n",
      "\u001b[1;31mParserError\u001b[0m                               Traceback (most recent call last)",
      "Input \u001b[1;32mIn [8]\u001b[0m, in \u001b[0;36m<cell line: 8>\u001b[1;34m()\u001b[0m\n\u001b[0;32m     31\u001b[0m users \u001b[38;5;241m=\u001b[39m users[Users_features]\n\u001b[0;32m     33\u001b[0m \u001b[38;5;66;03m# Convert Data Type\u001b[39;00m\n\u001b[1;32m---> 34\u001b[0m users[\u001b[38;5;124m'\u001b[39m\u001b[38;5;124mcreated_at\u001b[39m\u001b[38;5;124m'\u001b[39m] \u001b[38;5;241m=\u001b[39m \u001b[43mpd\u001b[49m\u001b[38;5;241;43m.\u001b[39;49m\u001b[43mto_datetime\u001b[49m\u001b[43m(\u001b[49m\u001b[43musers\u001b[49m\u001b[43m[\u001b[49m\u001b[38;5;124;43m'\u001b[39;49m\u001b[38;5;124;43mcreated_at\u001b[39;49m\u001b[38;5;124;43m'\u001b[39;49m\u001b[43m]\u001b[49m\u001b[43m)\u001b[49m\n\u001b[0;32m     36\u001b[0m \u001b[38;5;66;03m# Missing Values\u001b[39;00m\n\u001b[0;32m     37\u001b[0m \u001b[38;5;66;03m# Fill missing values for all numeric columns in tweets DataFrame\u001b[39;00m\n\u001b[0;32m     38\u001b[0m \u001b[38;5;28;01mfor\u001b[39;00m col \u001b[38;5;129;01min\u001b[39;00m tweets\u001b[38;5;241m.\u001b[39mcolumns:\n",
      "File \u001b[1;32mc:\\Users\\jmanu\\anaconda3\\lib\\site-packages\\pandas\\core\\tools\\datetimes.py:1068\u001b[0m, in \u001b[0;36mto_datetime\u001b[1;34m(arg, errors, dayfirst, yearfirst, utc, format, exact, unit, infer_datetime_format, origin, cache)\u001b[0m\n\u001b[0;32m   1066\u001b[0m         result \u001b[38;5;241m=\u001b[39m arg\u001b[38;5;241m.\u001b[39mmap(cache_array)\n\u001b[0;32m   1067\u001b[0m     \u001b[38;5;28;01melse\u001b[39;00m:\n\u001b[1;32m-> 1068\u001b[0m         values \u001b[38;5;241m=\u001b[39m \u001b[43mconvert_listlike\u001b[49m\u001b[43m(\u001b[49m\u001b[43marg\u001b[49m\u001b[38;5;241;43m.\u001b[39;49m\u001b[43m_values\u001b[49m\u001b[43m,\u001b[49m\u001b[43m \u001b[49m\u001b[38;5;28;43mformat\u001b[39;49m\u001b[43m)\u001b[49m\n\u001b[0;32m   1069\u001b[0m         result \u001b[38;5;241m=\u001b[39m arg\u001b[38;5;241m.\u001b[39m_constructor(values, index\u001b[38;5;241m=\u001b[39marg\u001b[38;5;241m.\u001b[39mindex, name\u001b[38;5;241m=\u001b[39marg\u001b[38;5;241m.\u001b[39mname)\n\u001b[0;32m   1070\u001b[0m \u001b[38;5;28;01melif\u001b[39;00m \u001b[38;5;28misinstance\u001b[39m(arg, (ABCDataFrame, abc\u001b[38;5;241m.\u001b[39mMutableMapping)):\n",
      "File \u001b[1;32mc:\\Users\\jmanu\\anaconda3\\lib\\site-packages\\pandas\\core\\tools\\datetimes.py:438\u001b[0m, in \u001b[0;36m_convert_listlike_datetimes\u001b[1;34m(arg, format, name, tz, unit, errors, infer_datetime_format, dayfirst, yearfirst, exact)\u001b[0m\n\u001b[0;32m    436\u001b[0m \u001b[38;5;28;01massert\u001b[39;00m \u001b[38;5;28mformat\u001b[39m \u001b[38;5;129;01mis\u001b[39;00m \u001b[38;5;28;01mNone\u001b[39;00m \u001b[38;5;129;01mor\u001b[39;00m infer_datetime_format\n\u001b[0;32m    437\u001b[0m utc \u001b[38;5;241m=\u001b[39m tz \u001b[38;5;241m==\u001b[39m \u001b[38;5;124m\"\u001b[39m\u001b[38;5;124mutc\u001b[39m\u001b[38;5;124m\"\u001b[39m\n\u001b[1;32m--> 438\u001b[0m result, tz_parsed \u001b[38;5;241m=\u001b[39m \u001b[43mobjects_to_datetime64ns\u001b[49m\u001b[43m(\u001b[49m\n\u001b[0;32m    439\u001b[0m \u001b[43m    \u001b[49m\u001b[43marg\u001b[49m\u001b[43m,\u001b[49m\n\u001b[0;32m    440\u001b[0m \u001b[43m    \u001b[49m\u001b[43mdayfirst\u001b[49m\u001b[38;5;241;43m=\u001b[39;49m\u001b[43mdayfirst\u001b[49m\u001b[43m,\u001b[49m\n\u001b[0;32m    441\u001b[0m \u001b[43m    \u001b[49m\u001b[43myearfirst\u001b[49m\u001b[38;5;241;43m=\u001b[39;49m\u001b[43myearfirst\u001b[49m\u001b[43m,\u001b[49m\n\u001b[0;32m    442\u001b[0m \u001b[43m    \u001b[49m\u001b[43mutc\u001b[49m\u001b[38;5;241;43m=\u001b[39;49m\u001b[43mutc\u001b[49m\u001b[43m,\u001b[49m\n\u001b[0;32m    443\u001b[0m \u001b[43m    \u001b[49m\u001b[43merrors\u001b[49m\u001b[38;5;241;43m=\u001b[39;49m\u001b[43merrors\u001b[49m\u001b[43m,\u001b[49m\n\u001b[0;32m    444\u001b[0m \u001b[43m    \u001b[49m\u001b[43mrequire_iso8601\u001b[49m\u001b[38;5;241;43m=\u001b[39;49m\u001b[43mrequire_iso8601\u001b[49m\u001b[43m,\u001b[49m\n\u001b[0;32m    445\u001b[0m \u001b[43m    \u001b[49m\u001b[43mallow_object\u001b[49m\u001b[38;5;241;43m=\u001b[39;49m\u001b[38;5;28;43;01mTrue\u001b[39;49;00m\u001b[43m,\u001b[49m\n\u001b[0;32m    446\u001b[0m \u001b[43m\u001b[49m\u001b[43m)\u001b[49m\n\u001b[0;32m    448\u001b[0m \u001b[38;5;28;01mif\u001b[39;00m tz_parsed \u001b[38;5;129;01mis\u001b[39;00m \u001b[38;5;129;01mnot\u001b[39;00m \u001b[38;5;28;01mNone\u001b[39;00m:\n\u001b[0;32m    449\u001b[0m     \u001b[38;5;66;03m# We can take a shortcut since the datetime64 numpy array\u001b[39;00m\n\u001b[0;32m    450\u001b[0m     \u001b[38;5;66;03m# is in UTC\u001b[39;00m\n\u001b[0;32m    451\u001b[0m     dta \u001b[38;5;241m=\u001b[39m DatetimeArray(result, dtype\u001b[38;5;241m=\u001b[39mtz_to_dtype(tz_parsed))\n",
      "File \u001b[1;32mc:\\Users\\jmanu\\anaconda3\\lib\\site-packages\\pandas\\core\\arrays\\datetimes.py:2177\u001b[0m, in \u001b[0;36mobjects_to_datetime64ns\u001b[1;34m(data, dayfirst, yearfirst, utc, errors, require_iso8601, allow_object, allow_mixed)\u001b[0m\n\u001b[0;32m   2175\u001b[0m order: Literal[\u001b[38;5;124m\"\u001b[39m\u001b[38;5;124mF\u001b[39m\u001b[38;5;124m\"\u001b[39m, \u001b[38;5;124m\"\u001b[39m\u001b[38;5;124mC\u001b[39m\u001b[38;5;124m\"\u001b[39m] \u001b[38;5;241m=\u001b[39m \u001b[38;5;124m\"\u001b[39m\u001b[38;5;124mF\u001b[39m\u001b[38;5;124m\"\u001b[39m \u001b[38;5;28;01mif\u001b[39;00m flags\u001b[38;5;241m.\u001b[39mf_contiguous \u001b[38;5;28;01melse\u001b[39;00m \u001b[38;5;124m\"\u001b[39m\u001b[38;5;124mC\u001b[39m\u001b[38;5;124m\"\u001b[39m\n\u001b[0;32m   2176\u001b[0m \u001b[38;5;28;01mtry\u001b[39;00m:\n\u001b[1;32m-> 2177\u001b[0m     result, tz_parsed \u001b[38;5;241m=\u001b[39m \u001b[43mtslib\u001b[49m\u001b[38;5;241;43m.\u001b[39;49m\u001b[43marray_to_datetime\u001b[49m\u001b[43m(\u001b[49m\n\u001b[0;32m   2178\u001b[0m \u001b[43m        \u001b[49m\u001b[43mdata\u001b[49m\u001b[38;5;241;43m.\u001b[39;49m\u001b[43mravel\u001b[49m\u001b[43m(\u001b[49m\u001b[38;5;124;43m\"\u001b[39;49m\u001b[38;5;124;43mK\u001b[39;49m\u001b[38;5;124;43m\"\u001b[39;49m\u001b[43m)\u001b[49m\u001b[43m,\u001b[49m\n\u001b[0;32m   2179\u001b[0m \u001b[43m        \u001b[49m\u001b[43merrors\u001b[49m\u001b[38;5;241;43m=\u001b[39;49m\u001b[43merrors\u001b[49m\u001b[43m,\u001b[49m\n\u001b[0;32m   2180\u001b[0m \u001b[43m        \u001b[49m\u001b[43mutc\u001b[49m\u001b[38;5;241;43m=\u001b[39;49m\u001b[43mutc\u001b[49m\u001b[43m,\u001b[49m\n\u001b[0;32m   2181\u001b[0m \u001b[43m        \u001b[49m\u001b[43mdayfirst\u001b[49m\u001b[38;5;241;43m=\u001b[39;49m\u001b[43mdayfirst\u001b[49m\u001b[43m,\u001b[49m\n\u001b[0;32m   2182\u001b[0m \u001b[43m        \u001b[49m\u001b[43myearfirst\u001b[49m\u001b[38;5;241;43m=\u001b[39;49m\u001b[43myearfirst\u001b[49m\u001b[43m,\u001b[49m\n\u001b[0;32m   2183\u001b[0m \u001b[43m        \u001b[49m\u001b[43mrequire_iso8601\u001b[49m\u001b[38;5;241;43m=\u001b[39;49m\u001b[43mrequire_iso8601\u001b[49m\u001b[43m,\u001b[49m\n\u001b[0;32m   2184\u001b[0m \u001b[43m        \u001b[49m\u001b[43mallow_mixed\u001b[49m\u001b[38;5;241;43m=\u001b[39;49m\u001b[43mallow_mixed\u001b[49m\u001b[43m,\u001b[49m\n\u001b[0;32m   2185\u001b[0m \u001b[43m    \u001b[49m\u001b[43m)\u001b[49m\n\u001b[0;32m   2186\u001b[0m     result \u001b[38;5;241m=\u001b[39m result\u001b[38;5;241m.\u001b[39mreshape(data\u001b[38;5;241m.\u001b[39mshape, order\u001b[38;5;241m=\u001b[39morder)\n\u001b[0;32m   2187\u001b[0m \u001b[38;5;28;01mexcept\u001b[39;00m \u001b[38;5;167;01mOverflowError\u001b[39;00m \u001b[38;5;28;01mas\u001b[39;00m err:\n\u001b[0;32m   2188\u001b[0m     \u001b[38;5;66;03m# Exception is raised when a part of date is greater than 32 bit signed int\u001b[39;00m\n",
      "File \u001b[1;32mc:\\Users\\jmanu\\anaconda3\\lib\\site-packages\\pandas\\_libs\\tslib.pyx:427\u001b[0m, in \u001b[0;36mpandas._libs.tslib.array_to_datetime\u001b[1;34m()\u001b[0m\n",
      "File \u001b[1;32mc:\\Users\\jmanu\\anaconda3\\lib\\site-packages\\pandas\\_libs\\tslib.pyx:683\u001b[0m, in \u001b[0;36mpandas._libs.tslib.array_to_datetime\u001b[1;34m()\u001b[0m\n",
      "File \u001b[1;32mc:\\Users\\jmanu\\anaconda3\\lib\\site-packages\\pandas\\_libs\\tslib.pyx:829\u001b[0m, in \u001b[0;36mpandas._libs.tslib._array_to_datetime_object\u001b[1;34m()\u001b[0m\n",
      "File \u001b[1;32mc:\\Users\\jmanu\\anaconda3\\lib\\site-packages\\pandas\\_libs\\tslib.pyx:819\u001b[0m, in \u001b[0;36mpandas._libs.tslib._array_to_datetime_object\u001b[1;34m()\u001b[0m\n",
      "File \u001b[1;32mc:\\Users\\jmanu\\anaconda3\\lib\\site-packages\\pandas\\_libs\\tslibs\\parsing.pyx:318\u001b[0m, in \u001b[0;36mpandas._libs.tslibs.parsing.parse_datetime_string\u001b[1;34m()\u001b[0m\n",
      "File \u001b[1;32mc:\\Users\\jmanu\\anaconda3\\lib\\site-packages\\dateutil\\parser\\_parser.py:1368\u001b[0m, in \u001b[0;36mparse\u001b[1;34m(timestr, parserinfo, **kwargs)\u001b[0m\n\u001b[0;32m   1366\u001b[0m     \u001b[38;5;28;01mreturn\u001b[39;00m parser(parserinfo)\u001b[38;5;241m.\u001b[39mparse(timestr, \u001b[38;5;241m*\u001b[39m\u001b[38;5;241m*\u001b[39mkwargs)\n\u001b[0;32m   1367\u001b[0m \u001b[38;5;28;01melse\u001b[39;00m:\n\u001b[1;32m-> 1368\u001b[0m     \u001b[38;5;28;01mreturn\u001b[39;00m DEFAULTPARSER\u001b[38;5;241m.\u001b[39mparse(timestr, \u001b[38;5;241m*\u001b[39m\u001b[38;5;241m*\u001b[39mkwargs)\n",
      "File \u001b[1;32mc:\\Users\\jmanu\\anaconda3\\lib\\site-packages\\dateutil\\parser\\_parser.py:643\u001b[0m, in \u001b[0;36mparser.parse\u001b[1;34m(self, timestr, default, ignoretz, tzinfos, **kwargs)\u001b[0m\n\u001b[0;32m    640\u001b[0m res, skipped_tokens \u001b[38;5;241m=\u001b[39m \u001b[38;5;28mself\u001b[39m\u001b[38;5;241m.\u001b[39m_parse(timestr, \u001b[38;5;241m*\u001b[39m\u001b[38;5;241m*\u001b[39mkwargs)\n\u001b[0;32m    642\u001b[0m \u001b[38;5;28;01mif\u001b[39;00m res \u001b[38;5;129;01mis\u001b[39;00m \u001b[38;5;28;01mNone\u001b[39;00m:\n\u001b[1;32m--> 643\u001b[0m     \u001b[38;5;28;01mraise\u001b[39;00m ParserError(\u001b[38;5;124m\"\u001b[39m\u001b[38;5;124mUnknown string format: \u001b[39m\u001b[38;5;132;01m%s\u001b[39;00m\u001b[38;5;124m\"\u001b[39m, timestr)\n\u001b[0;32m    645\u001b[0m \u001b[38;5;28;01mif\u001b[39;00m \u001b[38;5;28mlen\u001b[39m(res) \u001b[38;5;241m==\u001b[39m \u001b[38;5;241m0\u001b[39m:\n\u001b[0;32m    646\u001b[0m     \u001b[38;5;28;01mraise\u001b[39;00m ParserError(\u001b[38;5;124m\"\u001b[39m\u001b[38;5;124mString does not contain a date: \u001b[39m\u001b[38;5;132;01m%s\u001b[39;00m\u001b[38;5;124m\"\u001b[39m, timestr)\n",
      "\u001b[1;31mParserError\u001b[0m: Unknown string format: 1183552203000L present at position 0"
     ]
    }
   ],
   "source": [
    "# Base directory where your main folders (genuine_accounts.csv, etc.) are located\n",
    "base_directory = \"./\"\n",
    "\n",
    "# List all main folders in the base directory\n",
    "main_folders = [f for f in os.listdir(base_directory) if os.path.isdir(os.path.join(base_directory, f))]\n",
    "\n",
    "# Loop through each main folder\n",
    "for main_folder in main_folders[1:-3]:\n",
    "\n",
    "    # Construct the path to the nested folder, assuming the repeated structure\n",
    "    nested_folder_path = os.path.join(base_directory, main_folder, main_folder)\n",
    "    \n",
    "    # Construct the full paths to tweets.csv and users.csv within the nested folder\n",
    "    tweets_path = os.path.join(nested_folder_path, \"tweets.csv\")\n",
    "    users_path = os.path.join(nested_folder_path, \"users.csv\")\n",
    "\n",
    "    # Now you can process these datasets as needed\n",
    "    print(f\"Processing datasets in {main_folder}...\")\n",
    "    \n",
    "    # Load the datasets\n",
    "    tweets = pd.read_csv(tweets_path, encoding='utf-8')\n",
    "    users = pd.read_csv(users_path, encoding='utf-8')\n",
    "\n",
    "    # Example processing: Just printing out the number of rows in each file\n",
    "    print(f\"Tweets: {tweets.shape[0]} rows, Users: {users.shape[0]} rows\")\n",
    "\n",
    "    # Reduce the features \n",
    "    Tweets_features = [\"user_id\", \"retweet_count\", \"reply_count\", \"favorite_count\", \"num_hashtags\", \"num_urls\", \"num_mentions\"]\n",
    "    Users_features = [\"id\", \"statuses_count\", \"followers_count\", \"friends_count\", \"favourites_count\", \"listed_count\", \"created_at\"]\n",
    "    tweets = tweets[Tweets_features]\n",
    "    users = users[Users_features]\n",
    "\n",
    "    # Convert Data Type\n",
    "    users['created_at'] = pd.to_datetime(users['created_at'])\n",
    "\n",
    "    # Missing Values\n",
    "    # Fill missing values for all numeric columns in tweets DataFrame\n",
    "    for col in tweets.columns:\n",
    "        if pd.api.types.is_numeric_dtype(tweets[col]):\n",
    "            tweets[col] = tweets[col].fillna(0)\n",
    "\n",
    "    # Fill missing values for all numeric columns in users DataFrame\n",
    "    for col in users.columns:\n",
    "        if pd.api.types.is_numeric_dtype(users[col]):\n",
    "            users[col] = users[col].fillna(0)\n",
    "\n",
    "    # User Feature Eng\n",
    "    users['account_age_years'] = 2015 - users['created_at'].dt.year\n",
    "    users['followers_to_friends_ratio'] = users['followers_count'] / users['friends_count']\n",
    "    users['followers_to_friends_ratio'].replace([np.inf, -np.inf], np.nan, inplace=True)\n",
    "    users['followers_to_friends_ratio'] = users['followers_to_friends_ratio'].fillna(0)\n",
    "\n",
    "    # Drop Date\n",
    "    users = users.drop([\"created_at\"], axis=1)\n",
    "\n",
    "    # Aggregate Tweet\n",
    "    tweets[\"num_tweets\"] = 1\n",
    "    tweets = tweets.groupby(['user_id']).sum().reset_index()\n",
    "\n",
    "    # Feature Eng Tweets\n",
    "    tweets[\"retweet_ratio\"] = tweets[\"retweet_count\"]/tweets[\"num_tweets\"]\n",
    "    tweets[\"reply_ration\"] = tweets[\"reply_count\"]/tweets[\"num_tweets\"]\n",
    "\n",
    "    # Normalize\n",
    "    scaler = MinMaxScaler()\n",
    "    users.iloc[:,1:] = scaler.fit_transform(users.iloc[:,1:])\n",
    "    tweets.iloc[:,1:] = scaler.fit_transform(tweets.iloc[:,1:])\n",
    "\n",
    "    # Merge\n",
    "    merged_df = pd.merge(tweets, users, left_on='user_id', right_on='id', how='inner')\n",
    "\n",
    "    # Add bot feature\n",
    "    if main_folder == 'genuine_accounts.csv':\n",
    "        merged_df[\"bot\"] = 0\n",
    "        users[\"bot\"] = 0\n",
    "    else:\n",
    "        merged_df[\"bot\"] = 1\n",
    "        users[\"bot\"] = 1\n",
    "\n",
    "    # Define the new folder path\n",
    "    new_folder_path = f'./{main_folder}/{main_folder}/clean'\n",
    "\n",
    "    # Create the folder if it does not exist\n",
    "    if not os.path.exists(new_folder_path):\n",
    "        os.makedirs(new_folder_path)\n",
    "\n",
    "    merged_df.to_csv(f'{new_folder_path}/clean_merged.csv', index=False, encoding='utf-8')\n",
    "    users.to_csv(f'{new_folder_path}/clean_users.csv', index=False, encoding='utf-8')\n",
    "    print(\"******FILES SAVED********\\n\\n\")\n",
    "\n"
   ]
  },
  {
   "cell_type": "markdown",
   "metadata": {},
   "source": [
    "Add Bot"
   ]
  },
  {
   "cell_type": "code",
   "execution_count": 115,
   "metadata": {},
   "outputs": [
    {
     "data": {
      "text/plain": [
       "['E13.csv', 'FSF.csv', 'INT.csv', 'TFP.csv', 'TWT.csv']"
      ]
     },
     "execution_count": 115,
     "metadata": {},
     "output_type": "execute_result"
    }
   ],
   "source": [
    "if folder == 'E13.csv' or folder == 'TFP.csv':\n",
    "    merged_df[\"bot\"] = 0\n",
    "    users[\"bot\"] = 0\n",
    "else:\n",
    "    merged_df[\"bot\"] = 1\n",
    "    users[\"bot\"] = 1\n"
   ]
  }
 ],
 "metadata": {
  "kernelspec": {
   "display_name": "base",
   "language": "python",
   "name": "python3"
  },
  "language_info": {
   "codemirror_mode": {
    "name": "ipython",
    "version": 3
   },
   "file_extension": ".py",
   "mimetype": "text/x-python",
   "name": "python",
   "nbconvert_exporter": "python",
   "pygments_lexer": "ipython3",
   "version": "3.9.12"
  }
 },
 "nbformat": 4,
 "nbformat_minor": 2
}
