{
 "cells": [
  {
   "cell_type": "code",
   "execution_count": 1,
   "metadata": {},
   "outputs": [],
   "source": [
    "import sys\n",
    "import os\n",
    "\n",
    "# Append the directory of clean_cresci_2015.py to sys.path\n",
    "sys.path.append(os.path.abspath(\"../Code\"))\n",
    "\n",
    "# Main libraries\n",
    "from testing_enviroment import TestEnvironment"
   ]
  },
  {
   "cell_type": "code",
   "execution_count": 10,
   "metadata": {},
   "outputs": [],
   "source": [
    "# Main features to choose\n",
    "DATASET = 'cresci_2015'\n",
    "BOT_FOLDERS = [1, 1, 1] # Might be different between cresci_2015 and cresci_2017\n",
    "BOT_RATIO = [.4, .60] # Non-bot to Bot\n",
    "MERGED_DATASET = True # Merged dataset uses user info plus tweets \n",
    "TYPE_SELECTION = \"correlation\"\n",
    "TRAIN_RATE = .7\n",
    "TEST_RATE = .15\n",
    "VAL_RATE = .15\n",
    "MODEL = 'all'\n",
    "FEATURES = None # none equals to test all features, otherwise enter a number of features\n",
    "MODEL_P = None # Only use the template provided on top for modifying parametres for test\n",
    "GRID_SEARCH = False"
   ]
  },
  {
   "cell_type": "code",
   "execution_count": 11,
   "metadata": {},
   "outputs": [
    {
     "name": "stderr",
     "output_type": "stream",
     "text": [
      "c:\\Users\\jmanu\\anaconda3\\lib\\site-packages\\sklearn\\neighbors\\_classification.py:228: FutureWarning: Unlike other reduction functions (e.g. `skew`, `kurtosis`), the default behavior of `mode` typically preserves the axis it acts along. In SciPy 1.11.0, this behavior will change: the default value of `keepdims` will become False, the `axis` over which the statistic is taken will be eliminated, and the value None will no longer be accepted. Set `keepdims` to True or False to avoid this warning.\n",
      "  mode, _ = stats.mode(_y[neigh_ind, k], axis=1)\n",
      "c:\\Users\\jmanu\\anaconda3\\lib\\site-packages\\sklearn\\neighbors\\_classification.py:228: FutureWarning: Unlike other reduction functions (e.g. `skew`, `kurtosis`), the default behavior of `mode` typically preserves the axis it acts along. In SciPy 1.11.0, this behavior will change: the default value of `keepdims` will become False, the `axis` over which the statistic is taken will be eliminated, and the value None will no longer be accepted. Set `keepdims` to True or False to avoid this warning.\n",
      "  mode, _ = stats.mode(_y[neigh_ind, k], axis=1)\n"
     ]
    }
   ],
   "source": [
    "test = TestEnvironment(\n",
    "        DATASET = DATASET,\n",
    "        BOT_FOLDERS = BOT_FOLDERS,\n",
    "        BOT_RATIO = BOT_RATIO,\n",
    "        MERGED_DATASET = MERGED_DATASET,\n",
    "        TYPE_SELECTION = TYPE_SELECTION,\n",
    "        TRAIN_RATE = TRAIN_RATE,\n",
    "        TEST_RATE = TEST_RATE,\n",
    "        VAL_RATE = VAL_RATE,\n",
    "        MODEL = MODEL,\n",
    "        FEATURES = FEATURES,\n",
    "        MODEL_P = MODEL_P,\n",
    "        GRID_SEARCH = GRID_SEARCH\n",
    ")\n",
    "\n",
    "df = test.run_tests()"
   ]
  }
 ],
 "metadata": {
  "kernelspec": {
   "display_name": "base",
   "language": "python",
   "name": "python3"
  },
  "language_info": {
   "codemirror_mode": {
    "name": "ipython",
    "version": 3
   },
   "file_extension": ".py",
   "mimetype": "text/x-python",
   "name": "python",
   "nbconvert_exporter": "python",
   "pygments_lexer": "ipython3",
   "version": "3.9.12"
  }
 },
 "nbformat": 4,
 "nbformat_minor": 2
}
